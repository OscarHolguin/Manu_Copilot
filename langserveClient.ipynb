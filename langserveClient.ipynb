{
 "cells": [
  {
   "cell_type": "code",
   "execution_count": 76,
   "id": "81555963-514b-43cf-88b1-3da24f1ecd0e",
   "metadata": {},
   "outputs": [],
   "source": [
    "#COpilot langserve client\n",
    "from langchain.agents import AgentExecutor, tool\n",
    "from langchain.agents.format_scratchpad import format_to_openai_functions\n",
    "from langchain.tools import StructuredTool\n"
   ]
  },
  {
   "cell_type": "code",
   "execution_count": 77,
   "id": "0635936e-60f5-448e-8407-0eebf9bc6243",
   "metadata": {},
   "outputs": [],
   "source": [
    "from langserve import RemoteRunnable\n",
    "host = \"http://localhost:8000/\"\n",
    "\n",
    "copilotv=RemoteRunnable(host+\"cotalk/\")\n",
    "copilotg=RemoteRunnable(host+\"kg/\")\n",
    "copilotrag = RemoteRunnable(host+\"rag/\")"
   ]
  },
  {
   "cell_type": "code",
   "execution_count": 168,
   "id": "b2683877-14a8-4251-90ad-0fdec57db946",
   "metadata": {},
   "outputs": [],
   "source": [
    "def rag_server_response(query,host=\"http://localhost:8000/rag\",key=\"query\"):\n",
    "    import requests \n",
    "    import json\n",
    "    resp = requests.get(host+\"?\"+key+\"=\"+query)\n",
    "    if resp.status_code==200:\n",
    "        return json.loads(resp.text)\n",
    "\n",
    "\n",
    "#Simple function to\n",
    "def vector_answers(query:str,qkey=\"question\",chain=copilotv)->list:\n",
    "    \"\"\"Gets answers using vector RAG.\n",
    "    Args:\n",
    "        query: A string containing the question to ask.\n",
    "        qkey: A string indicating the key for the question in the input dictionary. Default is \"question\".\n",
    "        chain: A RemoteRunnable object that represents the vector RAG model.\n",
    "    Returns:\n",
    "        A list of answers from the vector RAG model.\n",
    "    \"\"\"\n",
    "    \n",
    "    return chain({\"question\":query}.get(\"answer\"))\n",
    "    \n",
    "\n",
    "def RAG_asnwers_tool():\n",
    "    structured_tool = StructuredTool.from_function(\n",
    "        name=\"Get LLM response using vector or graph RAG tool\",\n",
    "        func=copilot_response_server,\n",
    "        description=\"Copilot use this tool if you want to get a RAG response using knowledge graph or vector embeddings from business documents by API provisioning LangServe\")\n",
    "\n",
    "    return structured_tool\n",
    "\n",
    "# from langchain.agents import tool\n",
    "\n",
    "\n",
    "# @tool\n",
    "# def get_word_length(word: str) -> int:\n",
    "#     \"\"\"Returns the length of a word.\"\"\"\n",
    "#     return len(word)\n",
    "\n",
    "\n",
    "# @tool\n",
    "# def graph_response(query):\n",
    "#     pass\n",
    "\n",
    "async def stream_obj_response(copilotobj,query,qkey=\"question\"):\n",
    "    \"Streaming response using async stream\"\n",
    "    final_response = []\n",
    "    async for msg in copilotobj.astream({qkey:query}):\n",
    "        print(msg.get(\"answer\"), end=\"\", flush=True)\n",
    "        final_response.append(msg.get(\"answer\"), end=\"\", flush=True)\n",
    "    return final_response\n",
    "        \n",
    "    \n",
    "\n",
    "def copilot_response_server(query:str, qkey=\"question\",fullrag=False,copilotobj=None,stream=False):\n",
    "    \"Gets answers using vector RAG from vectors, graphs or RAG response class\"\n",
    "    if fullrag:\n",
    "        r = rag_server_response(query)\n",
    "    else:\n",
    "        #qkey for vector question and for graph \n",
    "        if stream: #streaming response\n",
    "            r = stream_obj_response(copilotobj,query,qkey)\n",
    "        else:\n",
    "            r=copilotobj.invoke({qkey:query})\n",
    "    return r\n",
    "\n",
    "\n"
   ]
  },
  {
   "cell_type": "code",
   "execution_count": null,
   "id": "2ebd363d-7f0f-4871-aad8-c855f112163c",
   "metadata": {},
   "outputs": [],
   "source": []
  },
  {
   "cell_type": "code",
   "execution_count": null,
   "id": "a675971b-2058-4c66-8bb8-ecd70be7e653",
   "metadata": {},
   "outputs": [],
   "source": []
  },
  {
   "cell_type": "markdown",
   "id": "48069926-82de-4605-8b82-00304d887ca5",
   "metadata": {},
   "source": [
    "## Testing Vector Retriever in Langserve"
   ]
  },
  {
   "cell_type": "code",
   "execution_count": 169,
   "id": "0b1b798f-7961-45a9-917d-9d4af8235eb0",
   "metadata": {},
   "outputs": [],
   "source": [
    "# import asyncio\n",
    "# asyncio.run(stream_obj_response(copilotobj=copilotv,query=\"how many tickets are related to benchmill\"))"
   ]
  },
  {
   "cell_type": "code",
   "execution_count": 156,
   "id": "3aa7b0be-1ac9-4e79-8971-58674c24ad27",
   "metadata": {
    "scrolled": true
   },
   "outputs": [
    {
     "name": "stderr",
     "output_type": "stream",
     "text": [
      "2024-02-16 07:30:14 [INFO]: HTTP Request: POST http://localhost:8000/cotalk/invoke \"HTTP/1.1 200 OK\"\n"
     ]
    },
    {
     "data": {
      "text/plain": [
       "{'answer': 'Based on the provided incident tickets, there is one ticket (INC0007654) that is related to the Benchmill.'}"
      ]
     },
     "execution_count": 156,
     "metadata": {},
     "output_type": "execute_result"
    }
   ],
   "source": [
    "copilot_response_server(\"how many tickets are related to benchmill\",copilotobj=copilotv)"
   ]
  },
  {
   "cell_type": "code",
   "execution_count": 157,
   "id": "7c3f6f44-f737-4008-bd86-b925a2606b25",
   "metadata": {},
   "outputs": [
    {
     "name": "stderr",
     "output_type": "stream",
     "text": [
      "2024-02-16 07:30:17 [INFO]: HTTP Request: POST http://localhost:8000/cotalk/invoke \"HTTP/1.1 200 OK\"\n"
     ]
    },
    {
     "data": {
      "text/plain": [
       "{'answer': 'The other incident tickets are about a sudden disruption in Production Line 2 due to the unexpected shutdown of Benchmill, excessive vibrations or unusual noise on Production Line 11 leading to poor product quality, a sudden and unplanned production stoppage on Assembly Line 3 impacting the deliverables, and variations in the quality and accuracy of produced machined parts on Assembly Line 7.'}"
      ]
     },
     "execution_count": 157,
     "metadata": {},
     "output_type": "execute_result"
    }
   ],
   "source": [
    "copilot_response_server(\"what are the others about then\",copilotobj=copilotv)"
   ]
  },
  {
   "cell_type": "code",
   "execution_count": 158,
   "id": "6f2a9431-70d7-438b-9043-cffa12e0befb",
   "metadata": {},
   "outputs": [
    {
     "name": "stderr",
     "output_type": "stream",
     "text": [
      "2024-02-16 07:30:24 [INFO]: HTTP Request: POST http://localhost:8000/cotalk/invoke \"HTTP/1.1 200 OK\"\n"
     ]
    },
    {
     "data": {
      "text/plain": [
       "{'answer': 'Sure, I can perform a root cause analysis for each incident ticket and provide a plan of action. Here are the results:\\n\\nIncident Ticket ID: INC0007654\\nRoot Cause Analysis: The unexpected shutdown of Benchmill on Production Line 2 was caused by high motor surface temperature (80 degree celsius) and high load on the motor (70%). This led to overheating and subsequent shutdown.\\n\\nPlan of Action: \\n1. Implement regular maintenance checks to ensure proper cooling of the motor and prevent overheating.\\n2. Optimize the load on the motor to reduce the risk of overheating.\\n3. Monitor motor surface temperature during operation and take corrective actions if it exceeds the recommended limit.\\n\\nIncident Ticket ID: INC0003557\\nRoot Cause Analysis: The unplanned production stoppage on Assembly Line 3 was caused by excessive dust accumulation (2 mm thickness) on the equipment. This resulted in reduced performance and eventual stoppage.\\n\\nPlan of Action:\\n1. Increase the frequency of equipment cleaning to prevent excessive dust accumulation.\\n2. Implement dust control measures in the production area to minimize dust generation.\\n3. Regularly inspect and clean the air filters to maintain proper airflow and prevent dust buildup.\\n\\nIncident Ticket ID: INC0001198\\nRoot Cause Analysis:'}"
      ]
     },
     "execution_count": 158,
     "metadata": {},
     "output_type": "execute_result"
    }
   ],
   "source": [
    "copilot_response_server(\"can you perform an individual root cause analysis and give me a plan of action for each of them\",copilotobj=copilotv)"
   ]
  },
  {
   "cell_type": "markdown",
   "id": "02aabff9-33df-461b-980a-62707cb3f3fc",
   "metadata": {},
   "source": [
    "#### Vector Retriever Stream response"
   ]
  },
  {
   "cell_type": "code",
   "execution_count": 162,
   "id": "b4f91fb1-ade2-4912-83d9-f2125366ec1d",
   "metadata": {
    "scrolled": true
   },
   "outputs": [
    {
     "name": "stderr",
     "output_type": "stream",
     "text": [
      "2024-02-16 07:32:37 [INFO]: HTTP Request: POST http://localhost:8000/cotalk/stream \"HTTP/1.1 200 OK\"\n"
     ]
    },
    {
     "name": "stdout",
     "output_type": "stream",
     "text": [
      "Based on the provided information, the root cause analysis for Incident Ticket ID INC0007654 is as follows:\n",
      "\n",
      "The unexpected shutdown of Benchmill on Production Line 2 during the morning shift was caused by a combination of factors. The motor surface temperature of 80 degrees Celsius indicates that the motor was operating at a high temperature, potentially leading to overheating. The load on the motor was at 70%, which suggests that the motor was operating close to its maximum capacity. Additionally, the voltage stability was at 5%, indicating fluctuations in the power supply. \n",
      "\n",
      "These factors, combined with the monthly maintenance logs showing a lack of regular maintenance, such as dust accumulation of 0.5 mm thickness, may have contributed to the sudden disruption and shutdown of Benchmill. Further analysis is recommended to determine the exact cause and develop appropriate corrective actions."
     ]
    }
   ],
   "source": [
    "#as stream response\n",
    "async for msg in copilotv.astream({\"question\":\"can you perform an individual root cause analysis for ticket 1\"}):\n",
    "    print(msg.get(\"answer\"), end=\"\", flush=True)"
   ]
  },
  {
   "cell_type": "code",
   "execution_count": 170,
   "id": "bfc6cb62-22d6-4865-ae81-b47b4af0cdae",
   "metadata": {},
   "outputs": [
    {
     "data": {
      "text/plain": [
       "<coroutine object stream_obj_response at 0x0000028C1DC77740>"
      ]
     },
     "execution_count": 170,
     "metadata": {},
     "output_type": "execute_result"
    }
   ],
   "source": [
    "#stream_obj_response(copilotv,\"can you perform an individual root cause analysis for ticket 1\",qkey=\"question\")\n",
    "#from function it yields corutine response\n",
    "copilot_response_server(\"perform an individual root cause analysis for ticket 1\",copilotobj=copilotv,stream=True)"
   ]
  },
  {
   "cell_type": "markdown",
   "id": "aa097094-5244-4366-9a8a-9e3d81b2d89d",
   "metadata": {},
   "source": [
    "## Testing GraphQA Retriever in Langserver"
   ]
  },
  {
   "cell_type": "code",
   "execution_count": 171,
   "id": "7e395384-047a-4a8f-8bdb-061336ab4d6f",
   "metadata": {},
   "outputs": [
    {
     "name": "stderr",
     "output_type": "stream",
     "text": [
      "2024-02-16 07:36:19 [INFO]: HTTP Request: POST http://localhost:8000/kg/invoke \"HTTP/1.1 200 OK\"\n"
     ]
    },
    {
     "data": {
      "text/plain": [
       "{'result': 'The study concluded that only about 13% of methane emissions are covered by methane mitigation policies. Additionally, the effectiveness of these policies is far from clear.'}"
      ]
     },
     "execution_count": 171,
     "metadata": {},
     "output_type": "execute_result"
    }
   ],
   "source": [
    "copilot_response_server(\"what did the study concluded\",copilotobj=copilotg)"
   ]
  },
  {
   "cell_type": "code",
   "execution_count": 172,
   "id": "bf5bfc30-66f1-4ef6-8e72-f12f294b5f4f",
   "metadata": {},
   "outputs": [
    {
     "name": "stderr",
     "output_type": "stream",
     "text": [
      "2024-02-16 07:36:23 [INFO]: HTTP Request: POST http://localhost:8000/kg/invoke \"HTTP/1.1 200 OK\"\n"
     ]
    },
    {
     "data": {
      "text/plain": [
       "{'result': \"I know several pieces of information about different topics. Here are some of them:\\n\\n1. There are theories of planetary formation that have been challenged.\\n2. There is a lowest-mass star hosting something, although it is not specified what it is hosting.\\n3. Five employees have published a tropical cyclone report.\\n4. In August, there was a new record high temperature reached.\\n5. The world's oceans have also reached a new record high temperature.\\n6. Hurricane Ian was upgraded from Category 4 to Category 5.\\n7. Hurricane Ian caused $112.9 billion worth of damage.\\n8. Hurricane Ian struck Florida.\\n9. The oxygen partial pressure is above 18%.\\n10. Emissions of chlorofluorocarbons have risen.\\n\\nPlease let me know if you would like more information on any specific topic.\"}"
      ]
     },
     "execution_count": 172,
     "metadata": {},
     "output_type": "execute_result"
    }
   ],
   "source": [
    "#RUN examples\n",
    "copilot_response_server(\"tell me everything you know about\",copilotobj=copilotg)\n"
   ]
  },
  {
   "cell_type": "code",
   "execution_count": 173,
   "id": "9de40fec-efb2-4d6e-bda1-c4e17d75bc66",
   "metadata": {},
   "outputs": [
    {
     "name": "stderr",
     "output_type": "stream",
     "text": [
      "2024-02-16 07:36:27 [INFO]: HTTP Request: POST http://localhost:8000/kg/invoke \"HTTP/1.1 200 OK\"\n"
     ]
    },
    {
     "data": {
      "text/plain": [
       "{'result': \"The Earth's heaviest animal is the blue whale. It can weigh up to 200 tons, which is equivalent to about 400,000 pounds. These magnificent creatures can grow to be over 100 feet long and have a heart that weighs as much as a car. Despite their massive size, blue whales primarily feed on tiny shrimp-like animals called krill.\"}"
      ]
     },
     "execution_count": 173,
     "metadata": {},
     "output_type": "execute_result"
    }
   ],
   "source": [
    "copilot_response_server(\"tell me about the earths heaviest animal\",copilotobj=copilotg)\n"
   ]
  },
  {
   "cell_type": "code",
   "execution_count": 174,
   "id": "c1132ee4-e560-47f5-a582-ad0759d4c355",
   "metadata": {},
   "outputs": [
    {
     "name": "stderr",
     "output_type": "stream",
     "text": [
      "2024-02-16 07:36:30 [INFO]: HTTP Request: POST http://localhost:8000/kg/invoke \"HTTP/1.1 200 OK\"\n"
     ]
    },
    {
     "data": {
      "text/plain": [
       "{'result': 'Root cause analysis is a systematic process used to identify the underlying causes of a problem or issue. It involves investigating and analyzing the various factors that contribute to the occurrence of the problem, with the goal of identifying the primary cause or causes. By understanding the root cause, organizations can develop effective solutions and prevent the problem from recurring in the future. Root cause analysis is commonly used in industries such as manufacturing, healthcare, and engineering to improve processes, enhance quality, and minimize risks.'}"
      ]
     },
     "execution_count": 174,
     "metadata": {},
     "output_type": "execute_result"
    }
   ],
   "source": [
    "copilot_response_server(\"what do you know about the root cause analysis\",copilotobj=copilotg)"
   ]
  },
  {
   "cell_type": "code",
   "execution_count": null,
   "id": "25c80268-002f-4320-ba3d-804f35e2d7cf",
   "metadata": {},
   "outputs": [],
   "source": []
  },
  {
   "cell_type": "markdown",
   "id": "270fd39a-7db9-44bb-9363-a25652b22e1d",
   "metadata": {},
   "source": [
    "## RAG responses"
   ]
  },
  {
   "cell_type": "code",
   "execution_count": 91,
   "id": "85e9d641-f50d-4d3e-bd84-ced5b205a4e6",
   "metadata": {},
   "outputs": [],
   "source": [
    "#RESPONSES from messages without memory"
   ]
  },
  {
   "cell_type": "code",
   "execution_count": 147,
   "id": "180bea8d-2680-4cd6-839c-e7f79231f1aa",
   "metadata": {},
   "outputs": [],
   "source": [
    "import requests\n",
    "import json"
   ]
  },
  {
   "cell_type": "code",
   "execution_count": 175,
   "id": "e1f59b74-c4f5-418f-b6ad-dea856c4d3d2",
   "metadata": {},
   "outputs": [
    {
     "data": {
      "text/plain": [
       "{'result': 'Based on the data from the first ticket (INC0007654), a Failure Mode and Effects Analysis (FMEA) can be performed to identify potential failure modes, their effects, and the severity, occurrence, and detection ratings associated with each failure mode. However, the provided data does not include information on the specific failure mode or the associated effects. Therefore, without additional information, a comprehensive FMEA cannot be performed.'}"
      ]
     },
     "execution_count": 175,
     "metadata": {},
     "output_type": "execute_result"
    }
   ],
   "source": [
    "#RESPONSE\n",
    "copilot_response_server(\"Perform FMEA on first ticket data\",fullrag=True)"
   ]
  },
  {
   "cell_type": "code",
   "execution_count": 176,
   "id": "5022bbe6-a6fa-419d-bc68-3e5932d8403b",
   "metadata": {},
   "outputs": [
    {
     "data": {
      "text/plain": [
       "{'result': 'Based on the provided data for Incident Ticket ID INC0007654, the RCA can be performed as follows:\\n\\n1) Check the cooling mechanisms: The airflow rate through the cooling vents is 70 CFM, which is above the standard value of 50 CFM. Cooling mechanisms are adequate.\\n\\n2) Evaluate ambient temperature around the motor: The ambient temperature is 35 degrees Celsius, which is above the standard value of 20-25 degrees Celsius. The high ambient temperature may contribute to inadequate cooling.\\n\\n3) Motor surface temperature during operation: The motor surface temperature is 80 degrees Celsius, which is above the standard value of 60 degrees Celsius. The high motor surface temperature indicates inadequate cooling.\\n\\nBased on the above analysis, the likely root cause of the unexpected shutdown of Benchmill is inadequate cooling leading to motor overheating.'}"
      ]
     },
     "execution_count": 176,
     "metadata": {},
     "output_type": "execute_result"
    }
   ],
   "source": [
    "copilot_response_server(\"Perform RCA on first ticket data\",fullrag=True)"
   ]
  },
  {
   "cell_type": "code",
   "execution_count": 181,
   "id": "7302bae9-0419-40e6-92e6-52d1b04bc2b0",
   "metadata": {},
   "outputs": [
    {
     "data": {
      "text/plain": [
       "{'result': 'Previous Question 1: What could be the root cause of the sudden disruption in Production Line 2 due to the unexpected shutdown of Benchmill?\\n\\nPrevious Question 2: What could be the root cause of the excessive vibrations or unusual noise on Production Line 11 leading to poor product quality?'}"
      ]
     },
     "execution_count": 181,
     "metadata": {},
     "output_type": "execute_result"
    }
   ],
   "source": [
    "copilot_response_server(\"What was my 2 previous question?\",fullrag=True)"
   ]
  },
  {
   "cell_type": "markdown",
   "id": "7f996e08-c4fa-420f-bb9a-0ff5a1f843a6",
   "metadata": {},
   "source": [
    "This RESPONSE has no memory"
   ]
  },
  {
   "cell_type": "code",
   "execution_count": null,
   "id": "54e7b17e-2609-40bd-8877-cb377c8c9e97",
   "metadata": {},
   "outputs": [],
   "source": []
  },
  {
   "cell_type": "markdown",
   "id": "e5a5501a-fa2f-4ae1-a1ec-d60b68626a55",
   "metadata": {},
   "source": [
    "## Agent executor LLMS"
   ]
  },
  {
   "cell_type": "code",
   "execution_count": 182,
   "id": "1b6c427a-d53a-4641-b552-d3abffa448c8",
   "metadata": {},
   "outputs": [],
   "source": [
    "#remote \n",
    "from ResponsePipeline import vecrag,llmrca,loaded_embeddings,rag2"
   ]
  },
  {
   "cell_type": "code",
   "execution_count": 149,
   "id": "59f3ef50-72c6-4215-bdb2-2246d8586ca6",
   "metadata": {},
   "outputs": [],
   "source": [
    "#DEPLOYMENT \n",
    "#You can deploy to Azure using Azure Container Apps (Serverless):\n",
    "#az containerapp up --name [container-app-name] --source . --resource-group [resource-group-name] --environment  [environment-name] --ingress external --target-port 8001 --env-vars=OPENAI_API_KEY=your_key\n"
   ]
  },
  {
   "cell_type": "code",
   "execution_count": null,
   "id": "e6425556-dff9-49ff-a710-f60180c84c22",
   "metadata": {},
   "outputs": [],
   "source": []
  },
  {
   "cell_type": "markdown",
   "id": "d5b64132-0ec4-4d06-bb17-9df8c7310f37",
   "metadata": {},
   "source": [
    "tools_llm = llmrca.bind(functions = [format_tool_to_openai_function(t) for t in tools])\n"
   ]
  },
  {
   "cell_type": "markdown",
   "id": "bb5ada83-0ade-4c75-9efb-67b8472acde5",
   "metadata": {},
   "source": []
  },
  {
   "cell_type": "code",
   "execution_count": null,
   "id": "87af290b-b4bc-4c5a-bf8c-f3d9ee04ac33",
   "metadata": {},
   "outputs": [],
   "source": [
    "tools_llm = llmrca.bind(functions = [format_tool_to_openai_function(t) for t in tools])\n"
   ]
  },
  {
   "cell_type": "code",
   "execution_count": 82,
   "id": "10337656-4531-4667-a961-5adfe1d322a3",
   "metadata": {},
   "outputs": [
    {
     "ename": "NameError",
     "evalue": "name 'initialize_agent' is not defined",
     "output_type": "error",
     "traceback": [
      "\u001b[1;31m---------------------------------------------------------------------------\u001b[0m",
      "\u001b[1;31mNameError\u001b[0m                                 Traceback (most recent call last)",
      "Cell \u001b[1;32mIn[82], line 5\u001b[0m\n\u001b[0;32m      1\u001b[0m \u001b[38;5;66;03m#LLM RCA WITH TOOLS\u001b[39;00m\n\u001b[0;32m      3\u001b[0m tools \u001b[38;5;241m=\u001b[39m [RAG_asnwers_tool]\n\u001b[1;32m----> 5\u001b[0m agent \u001b[38;5;241m=\u001b[39m initialize_agent(llm\u001b[38;5;241m=\u001b[39mllmrca,\n\u001b[0;32m      6\u001b[0m                          tools\u001b[38;5;241m=\u001b[39mtools,\n\u001b[0;32m      7\u001b[0m                          agent\u001b[38;5;241m=\u001b[39mAgentType\u001b[38;5;241m.\u001b[39mSTRUCTURED_CHAT_ZERO_SHOT_REACT_DESCRIPTION,\n\u001b[0;32m      8\u001b[0m                          verbose\u001b[38;5;241m=\u001b[39m\u001b[38;5;28;01mTrue\u001b[39;00m)\n",
      "\u001b[1;31mNameError\u001b[0m: name 'initialize_agent' is not defined"
     ]
    }
   ],
   "source": [
    "#LLM RCA WITH TOOLS\n",
    "\n",
    "tools = [RAG_asnwers_tool]\n",
    "\n",
    "agent = initialize_agent(llm=llmrca,\n",
    "                         tools=tools,\n",
    "                         agent=AgentType.STRUCTURED_CHAT_ZERO_SHOT_REACT_DESCRIPTION,\n",
    "                         verbose=True)"
   ]
  },
  {
   "cell_type": "code",
   "execution_count": null,
   "id": "671e6682-5f33-41a8-8206-bfc0294db5ee",
   "metadata": {},
   "outputs": [],
   "source": []
  },
  {
   "cell_type": "code",
   "execution_count": null,
   "id": "0de26608-5ec3-4f31-895d-645452ae15cf",
   "metadata": {},
   "outputs": [],
   "source": []
  },
  {
   "cell_type": "code",
   "execution_count": 99,
   "id": "13f25a64-7565-44b7-937b-ee753ad45f38",
   "metadata": {},
   "outputs": [
    {
     "name": "stdout",
     "output_type": "stream",
     "text": [
      "Getting vector retriever\n"
     ]
    },
    {
     "name": "stderr",
     "output_type": "stream",
     "text": [
      "2024-02-15 15:46:12 [INFO]: Loading faiss with AVX2 support.\n",
      "2024-02-15 15:46:12 [INFO]: Could not load library with AVX2 support due to:\n",
      "ModuleNotFoundError(\"No module named 'faiss.swigfaiss_avx2'\")\n",
      "2024-02-15 15:46:12 [INFO]: Loading faiss.\n",
      "2024-02-15 15:46:12 [INFO]: Successfully loaded faiss.\n"
     ]
    },
    {
     "name": "stdout",
     "output_type": "stream",
     "text": [
      "Building vector chain \n"
     ]
    }
   ],
   "source": [
    "vc2=vecrag.get_retriever(method=\"vector\",text_embeddings = loaded_embeddings,store=\"faiss\")"
   ]
  },
  {
   "cell_type": "code",
   "execution_count": 100,
   "id": "86a9cbf7-dcb4-4b5b-bf21-cc72460c90de",
   "metadata": {},
   "outputs": [
    {
     "name": "stdout",
     "output_type": "stream",
     "text": [
      "Getting vector retriever\n",
      "Building vector chain \n"
     ]
    }
   ],
   "source": [
    "vectorchain2 = vecrag.get_retriever(method=\"vector\",text_embeddings = loaded_embeddings,store=\"faiss\")\n"
   ]
  },
  {
   "cell_type": "code",
   "execution_count": 102,
   "id": "38d2bca6-86ff-47d7-bdc5-fb33ce7259e4",
   "metadata": {},
   "outputs": [
    {
     "name": "stderr",
     "output_type": "stream",
     "text": [
      "2024-02-15 15:46:30 [INFO]: HTTP Request: POST https://usedoai0efaoa03.openai.azure.com//openai/deployments/azure_embedding/embeddings?api-version=2023-05-15 \"HTTP/1.1 200 OK\"\n"
     ]
    },
    {
     "name": "stdout",
     "output_type": "stream",
     "text": [
      "\n",
      "\n",
      "\u001b[1m> Entering new StuffDocumentsChain chain...\u001b[0m\n",
      "\n",
      "\n",
      "\u001b[1m> Entering new LLMChain chain...\u001b[0m\n",
      "Prompt after formatting:\n",
      "\u001b[32;1m\u001b[1;3mSystem:  \n",
      "                Given a specific context, please give a short answer to the question talking like a professional Manufacturing AI Assistant.\n",
      "                Your answers should be concise, precise and should easily demonstrate you are an expert. Remember you are also a specialist in Root Cause Analysis and FMEA\n",
      "                you can perform RCA and FMEA basing yourself on the reference values retrieved and comparing them to the incidents. \n",
      "                ----\n",
      "                ﻿Incident Ticket ID: INC0004823\n",
      "Issue Description: Excessive vibrations or unusual noise occurred on Production Line 11 and lead to poor product quality.\n",
      "Parameter Values: Airflow Rate : 70 CFM, Ambient Temperature : 22 degree celsius, Motor surface temperature : 50 degree celsius, Motor rated power : 1.5 HP,\n",
      "Load on motor :  90% , User workload : 82%, Voltage stability : 5%, Power wiring resistance : 0.01 ohms, Voltage fluctuation : 1%, \n",
      "Maintenace logs shows monthly frequency, Dust accumulation : 0.5 mm thickness, Lubrication frequency : 50 hours\n",
      "\n",
      "﻿Incident Ticket ID: INC0001198\n",
      "Issue Description: Variations in the quality and accuracy of produced machined parts on Assembly Line 7\n",
      "Parameter Values: Airflow Rate : 70 CFM, Ambient Temperature : 22 degree celsius, Motor surface temperature : 50 degree celsius, Motor rated power : 1.5 HP,\n",
      "Load on motor :  70% , User workload : 60%, Voltage stability : 5%, Power wiring resistance : 0.51 ohms, Voltage fluctuation : 4%, \n",
      "Maintenace logs shows monthly frequency, Dust accumulation : 0.5 mm thickness, Lubrication frequency : 50 hours\n",
      "\n",
      "﻿Incident Ticket ID: INC0003557\n",
      "Issue Description: A Sudden and unplanned production stoppage occurred on Assembly Line 3 impacting the deliverables\n",
      "Parameter Values: Airflow Rate : 70 CFM, Ambient Temperature : 22 degree celsius, Motor surface temperature : 50 degree celsius, Motor rated power : 1.5 HP,\n",
      "Load on motor :  70% , User workload : 60%, Voltage stability : 5%, Power wiring resistance : 0.01 ohms, Voltage fluctuation : 1%, \n",
      "Maintenace logs shows monthly frequency, Dust accumulation : 2 mm thickness, Lubrication frequency : 100 hours\n",
      "\n",
      "﻿Incident Ticket ID: INC0007654\n",
      "Issue Description: Production Line 2 experienced a sudden disruption during the morning shift due to unexpected shutdown of Benchmill impacting the production schedule.\n",
      "Parameter Values: Airflow RAirflow Rate : 70 CFM, Ambient Temperature : 35 degree celsius, Motor surface temperature : 80 degree celsius, Motor rated power : 1.5 HP,\n",
      "Load on motor :  70% , User workload : 60%, Voltage stability : 5%, Power wiring resistance : 0.01 ohms, Voltage fluctuation : 1%, \n",
      "Maintenace logs shows monthly frequency, Dust accumulation : 0.5 mm thickness, Lubrication frequency : 50 hoursate\n",
      "                ----\n",
      "                \n",
      "Human: Question:```number of tickets```\u001b[0m\n"
     ]
    },
    {
     "name": "stderr",
     "output_type": "stream",
     "text": [
      "2024-02-15 15:46:31 [INFO]: HTTP Request: POST https://usedoai0efaoa03.openai.azure.com//openai/deployments/mxdrca/chat/completions?api-version=2023-05-15 \"HTTP/1.1 200 OK\"\n"
     ]
    },
    {
     "name": "stdout",
     "output_type": "stream",
     "text": [
      "\n",
      "\u001b[1m> Finished chain.\u001b[0m\n",
      "\n",
      "\u001b[1m> Finished chain.\u001b[0m\n"
     ]
    },
    {
     "data": {
      "text/plain": [
       "{'question': 'number of tickets',\n",
       " 'chat_history': [HumanMessage(content='number of tickets'),\n",
       "  AIMessage(content='Based on the given information, there are 4 incident tickets mentioned.')],\n",
       " 'answer': 'Based on the given information, there are 4 incident tickets mentioned.'}"
      ]
     },
     "execution_count": 102,
     "metadata": {},
     "output_type": "execute_result"
    }
   ],
   "source": [
    "vc2.invoke({\"question\":\"number of tickets\"})"
   ]
  },
  {
   "cell_type": "code",
   "execution_count": 114,
   "id": "11eb2978-68ce-4195-8372-5a87b1516dba",
   "metadata": {},
   "outputs": [
    {
     "name": "stderr",
     "output_type": "stream",
     "text": [
      "2024-02-15 16:20:49 [INFO]: HTTP Request: POST http://localhost:8000/cotalk/stream \"HTTP/1.1 200 OK\"\n"
     ]
    },
    {
     "data": {
      "text/plain": [
       "{'question': 'what tickets are related to bad maintainance',\n",
       " 'chat_history': [HumanMessage(content='how many tickets are related to benchmill'),\n",
       "  AIMessage(content='Based on the provided incident tickets, there is 1 ticket related to the Benchmill.'),\n",
       "  HumanMessage(content='what are the others about then'),\n",
       "  AIMessage(content='Ticket INC0004823: Excessive vibrations or unusual noise occurred on Production Line 11 and lead to poor product quality.\\n\\nTicket INC0001198: Variations in the quality and accuracy of produced machined parts on Assembly Line 7.\\n\\nTicket INC0007654: Production Line 2 experienced a sudden disruption during the morning shift due to unexpected shutdown of Benchmill impacting the production schedule.\\n\\nTicket INC0003557: A sudden and unplanned production stoppage occurred on Assembly Line 3 impacting the deliverables.'),\n",
       "  HumanMessage(content='can you perform an individual root cause analysis and give me a plan of action for each of them'),\n",
       "  AIMessage(content='Sure, I can perform a root cause analysis for each of the tickets mentioned and provide a plan of action. Here are the results:\\n\\nTicket ID: INC0007654\\nRoot Cause Analysis:\\nBased on the parameter values provided, the motor surface temperature (80 degrees Celsius) exceeds the standard value (<60 degrees Celsius). This indicates inadequate cooling leading to motor overheating.\\n\\nPlan of Action:\\n1. Check the cooling mechanisms: Ensure that the airflow rate through the cooling vents is >50 CFM.\\n2. Evaluate ambient temperature around the motor: Maintain the ambient temperature within the standard range of 20-25 degrees Celsius.\\n3. Improve cooling: Implement measures to enhance cooling, such as increasing airflow or installing additional cooling systems.\\n\\nTicket ID: INC0003557\\nRoot Cause Analysis:\\nNo breach of standard values was found in any of the parameters. The root cause of the sudden production stoppage is not listed in the reference guide.\\n\\nPlan of Action:\\n1. Perform a detailed inspection: Conduct a thorough examination of the assembly line to identify any potential issues or anomalies.\\n2. Review maintenance logs: Check for any irregularities or missed maintenance activities that could have contributed to the stoppage.\\n3. Analyze historical data: Look for any patterns or trends in previous incidents that'),\n",
       "  HumanMessage(content='what did the study concluded'),\n",
       "  AIMessage(content='The study concluded that only about 13% of methane emissions are covered by methane mitigation policies. Additionally, the effectiveness of these policies is far from clear.'),\n",
       "  HumanMessage(content='tell me everything you know about'),\n",
       "  AIMessage(content=\"I know several pieces of information about different topics. Here are some of them:\\n\\n1. There are theories of planetary formation that have been challenged.\\n2. There is a lowest-mass star hosting something, although it is not specified what it is hosting.\\n3. Five employees have published a tropical cyclone report.\\n4. In August, there was a new record high temperature reached.\\n5. The world's oceans have also reached a new record high temperature.\\n6. Hurricane Ian was upgraded from Category 4 to Category 5.\\n7. Hurricane Ian caused $112.9 billion worth of damage.\\n8. Hurricane Ian struck Florida.\\n9. The oxygen partial pressure is above 18%.\\n10. Emissions of chlorofluorocarbons have risen.\\n\\nPlease let me know if you would like more information on any specific topic.\"),\n",
       "  HumanMessage(content='tell me about the earths heaviest animal'),\n",
       "  AIMessage(content=\"The Earth's heaviest animal is the blue whale. It can weigh up to 200 tons, which is equivalent to about 400,000 pounds. These magnificent creatures can grow to be over 100 feet long and have a heart that weighs as much as a car. Despite their massive size, blue whales primarily feed on tiny shrimp-like animals called krill.\"),\n",
       "  HumanMessage(content='what do you know about the motor'),\n",
       "  AIMessage(content=\"I'm sorry, but I don't have any information about the motor.\"),\n",
       "  HumanMessage(content='what do you know about the motor'),\n",
       "  AIMessage(content=\"I'm sorry, but I don't have any information about the motor.\"),\n",
       "  HumanMessage(content='what do you know about the motor'),\n",
       "  AIMessage(content=\"I'm sorry, but I don't have any information about the motor.\"),\n",
       "  HumanMessage(content='what do you know about the motor from benchmill'),\n",
       "  AIMessage(content=\"I'm sorry, but I don't have any information about the motor from Benchmill.\"),\n",
       "  HumanMessage(content='what do you know about the motor'),\n",
       "  AIMessage(content=\"I'm sorry, but I don't have any information about the motor.\"),\n",
       "  HumanMessage(content='what do you know about the voltage'),\n",
       "  AIMessage(content='Voltage is a measure of electric potential difference between two points in an electrical circuit. It is commonly referred to as the force or pressure that pushes electric charges through a conductor. Voltage is typically measured in volts (V) and is an essential concept in understanding and analyzing electrical systems.'),\n",
       "  HumanMessage(content='what do you know about the MCU'),\n",
       "  AIMessage(content=\"I'm sorry, but I don't have any information about the MCU.\"),\n",
       "  HumanMessage(content='what do you know about the US'),\n",
       "  AIMessage(content='The United States, commonly known as the US, is a country located in North America. It is made up of 50 states, a federal district, and several territories. The US is known for its diverse culture, vibrant cities, and vast natural landscapes. It is the third-largest country by land area and has a population of over 330 million people. The US is a federal republic with a democratic system of government. It has a strong economy and is considered a global superpower. The country has had a significant impact on various aspects of global culture, including music, film, technology, and sports.'),\n",
       "  HumanMessage(content='what do you know about the RCA'),\n",
       "  AIMessage(content=\"I'm sorry, but I don't have any information about the RCA.\"),\n",
       "  HumanMessage(content='what do you know about the root cause analysis'),\n",
       "  AIMessage(content='Root cause analysis is a systematic process used to identify the underlying causes of a problem or issue. It involves investigating and analyzing the various factors that contribute to the occurrence of the problem, with the goal of identifying the primary cause or causes. By understanding the root cause, organizations can develop effective solutions and prevent the problem from recurring in the future. Root cause analysis is commonly used in industries such as manufacturing, healthcare, and engineering to improve processes, enhance quality, and minimize risks.'),\n",
       "  HumanMessage(content='RCA on the first ticket'),\n",
       "  AIMessage(content='Based on the provided information, the root cause analysis for the first ticket (INC0007654) identified the unexpected shutdown of the Benchmill as the root cause of the disruption in Production Line 2. The incident was likely caused by a combination of factors, including the motor surface temperature reaching 80 degrees Celsius, the load on the motor being at 70%, and the voltage stability being at 5%. These factors may have led to an overheating of the motor, resulting in the shutdown. Additionally, the maintenance logs showing a monthly frequency and the dust accumulation of 0.5 mm thickness may have contributed to the issue. Further analysis and investigation are recommended to confirm and address these root causes.'),\n",
       "  HumanMessage(content='What was my previous question?'),\n",
       "  AIMessage(content='I apologize, but I am an AI assistant and do not have the capability to remember previous questions. Is there anything else I can assist you with?'),\n",
       "  HumanMessage(content='what did the study concluded'),\n",
       "  AIMessage(content='The study concluded that only about 13% of methane emissions are covered by methane mitigation policies. Additionally, the effectiveness of these policies is far from clear.'),\n",
       "  HumanMessage(content='tell me everything you know about'),\n",
       "  AIMessage(content=\"I know several pieces of information about different topics. Here are some of them:\\n\\n1. There are theories of planetary formation that have been challenged.\\n2. There is a lowest-mass star hosting something, although it is not specified what it is hosting.\\n3. Five employees have published a tropical cyclone report.\\n4. In August, there was a new record high temperature reached.\\n5. The world's oceans have also reached a new record high temperature.\\n6. Hurricane Ian was upgraded from Category 4 to Category 5.\\n7. Hurricane Ian caused $112.9 billion worth of damage.\\n8. Hurricane Ian struck Florida.\\n9. The oxygen partial pressure is above 18%.\\n10. Emissions of chlorofluorocarbons have risen.\\n\\nPlease let me know if you would like more information on any specific topic.\"),\n",
       "  HumanMessage(content='tell me about the earths heaviest animal'),\n",
       "  AIMessage(content=\"The Earth's heaviest animal is the blue whale. It can weigh up to 200 tons, which is equivalent to about 400,000 pounds. These magnificent creatures can grow to be over 100 feet long and have a heart that weighs as much as a car. Despite their massive size, blue whales primarily feed on tiny shrimp-like animals called krill.\"),\n",
       "  HumanMessage(content='what do you know about the root cause analysis'),\n",
       "  AIMessage(content='Root cause analysis is a systematic process used to identify the underlying causes of a problem or issue. It involves investigating and analyzing the various factors that contribute to the occurrence of the problem, with the goal of identifying the primary cause or causes. By understanding the root cause, organizations can develop effective solutions and prevent the problem from recurring in the future. Root cause analysis is commonly used in industries such as manufacturing, healthcare, and engineering to improve processes, enhance quality, and minimize risks.'),\n",
       "  HumanMessage(content='how many tickets are related to benchmill'),\n",
       "  AIMessage(content='Based on the provided incident tickets, there is one ticket (INC0007654) that is related to the Benchmill.'),\n",
       "  HumanMessage(content='what are the others about then'),\n",
       "  AIMessage(content='The other tickets involve variations in the quality and accuracy of produced machined parts on Assembly Line 7, excessive vibrations or unusual noise on Production Line 11 leading to poor product quality, and a sudden disruption and unexpected shutdown of Benchmill on Production Line 2 impacting the production schedule. Additionally, there was a sudden and unplanned production stoppage on Assembly Line 3 impacting the deliverables.'),\n",
       "  HumanMessage(content='can you perform an individual root cause analysis and give me a plan of action for each of them'),\n",
       "  AIMessage(content='Ticket INC0007654:\\nRoot Cause Analysis:\\nBased on the parameter values provided, the likely root cause of the sudden disruption in Production Line 2 is inadequate cooling leading to motor overheating. This is indicated by the high motor surface temperature of 80 degrees Celsius, which exceeds the standard value of 60 degrees Celsius. Additionally, the airflow rate of 70 CFM meets the standard value, but it is recommended to check the cooling mechanisms for any potential issues.\\n\\nPlan of Action:\\n1. Check the cooling mechanisms of the Benchmill to ensure proper airflow and cooling.\\n2. Investigate and address any potential blockages or malfunctions in the cooling vents.\\n3. Implement measures to improve cooling efficiency, such as cleaning or replacing filters, if necessary.\\n4. Monitor the motor surface temperature during operation to ensure it remains within the standard value of 60 degrees Celsius.\\n\\nTicket INC0003557:\\nRoot Cause Analysis:\\nBased on the parameter values provided, the sudden production stoppage on Assembly Line 3 is not directly attributed to any breach of standard values in the RCA reference guide. The airflow rate, ambient temperature, motor surface temperature, load on motor, user workload, voltage stability, power wiring resistance, voltage fluctuation, maintenance logs, and lubrication frequency all meet'),\n",
       "  HumanMessage(content='what did the study concluded'),\n",
       "  AIMessage(content='The study concluded that only about 13% of methane emissions are covered by methane mitigation policies. Additionally, the effectiveness of these policies is far from clear.'),\n",
       "  HumanMessage(content='tell me everything you know about'),\n",
       "  AIMessage(content=\"I know several pieces of information about different topics. Here are some of them:\\n\\n1. There are theories of planetary formation that have been challenged.\\n2. There is a lowest-mass star hosting something, although it is not specified what it is hosting.\\n3. Five employees have published a tropical cyclone report.\\n4. In August, there was a new record high temperature reached.\\n5. The world's oceans have also reached a new record high temperature.\\n6. Hurricane Ian was upgraded from Category 4 to Category 5.\\n7. Hurricane Ian caused $112.9 billion worth of damage.\\n8. Hurricane Ian struck Florida.\\n9. The oxygen partial pressure is above 18%.\\n10. Emissions of chlorofluorocarbons have risen.\\n\\nPlease let me know if you would like more information on any specific topic.\"),\n",
       "  HumanMessage(content='tell me about the earths heaviest animal'),\n",
       "  AIMessage(content=\"The Earth's heaviest animal is the blue whale. It can weigh up to 200 tons, which is equivalent to about 400,000 pounds. These magnificent creatures can grow to be over 100 feet long and have a heart that weighs as much as a car. Despite their massive size, blue whales primarily feed on tiny shrimp-like animals called krill.\"),\n",
       "  HumanMessage(content='what do you know about the root cause analysis'),\n",
       "  AIMessage(content='Root cause analysis is a systematic process used to identify the underlying causes of a problem or issue. It involves investigating and analyzing the various factors that contribute to the occurrence of the problem, with the goal of identifying the primary cause or causes. By understanding the root cause, organizations can develop effective solutions and prevent the problem from recurring in the future. Root cause analysis is commonly used in industries such as manufacturing, healthcare, and engineering to improve processes, enhance quality, and minimize risks.'),\n",
       "  HumanMessage(content='Perform FMEA on first ticket data'),\n",
       "  AIMessage(content=\"Based on the data provided in the first ticket (INC0007654), a Failure Mode and Effects Analysis (FMEA) can be performed to identify potential failure modes, their effects, and the associated causes. \\n\\nFailure Mode: Unexpected shutdown of Benchmill\\nEffects: Disruption of production schedule\\nCauses:\\n1. Motor surface temperature: 80 degree celsius - High motor surface temperature can lead to overheating and shutdown.\\n2. Load on motor: 70% - High load on the motor can cause overheating and shutdown.\\n3. Voltage stability: 5% - Low voltage stability can affect the motor's performance and lead to shutdown.\\n4. Power wiring resistance: 0.01 ohms - High power wiring resistance can cause voltage drop and lead to shutdown.\\n5. Voltage fluctuation: 1% - Voltage fluctuations can affect the motor's performance and lead to shutdown.\\n6. Dust accumulation: 0.5 mm thickness - Dust accumulation can affect the motor's cooling and lead to overheating and shutdown.\\n7. Lubrication frequency: 50 hours - Inadequate lubrication can cause increased friction and overheating, leading to shutdown.\\n\\nBy analyzing these potential failure modes and their causes, appropriate preventive measures can be implemented to minimize the\"),\n",
       "  HumanMessage(content='What was my previous question?'),\n",
       "  AIMessage(content=\"I apologize for the confusion, but I don't have access to previous questions. However, if you have any specific question or need assistance with a manufacturing-related issue, I'll be happy to help.\"),\n",
       "  HumanMessage(content='Perform FMEA on first ticket data'),\n",
       "  AIMessage(content=\"Based on the data provided in the first ticket (INC0007654), a Failure Mode and Effects Analysis (FMEA) can be performed to identify potential failure modes, their causes, and their effects on the production line. \\n\\nFailure Mode: Unexpected shutdown of Benchmill\\nPotential Causes: \\n1. Motor surface temperature exceeding the normal range (80 degree celsius)\\n2. Load on motor exceeding the recommended limit (70%)\\n3. Voltage stability deviation (5%)\\n4. Power wiring resistance higher than the acceptable value (0.01 ohms)\\n5. Dust accumulation on the Benchmill (0.5 mm thickness)\\n6. Insufficient lubrication frequency (50 hours)\\n\\nPotential Effects:\\n1. Disruption in the production schedule\\n2. Decreased productivity\\n3. Increased downtime\\n4. Potential damage to the Benchmill\\n5. Increased maintenance and repair costs\\n\\nBased on the FMEA, further investigation and analysis should be conducted to determine the root cause of the unexpected shutdown of the Benchmill. This may involve examining the motor, voltage stability, power wiring, dust accumulation, and lubrication practices. By addressing the identified potential causes, the likelihood of future disruptions can be minimized, and the production line's reliability and efficiency can be improved.\"),\n",
       "  HumanMessage(content='What was my previous question?'),\n",
       "  AIMessage(content=\"I apologize for the confusion, but I don't have access to previous questions. However, if you have any specific question or need assistance with a manufacturing-related issue, I'll be happy to help.\"),\n",
       "  HumanMessage(content='Perform RCA on first ticket data'),\n",
       "  AIMessage(content=\"Based on the data from the first ticket (INC0007654), the root cause of the unexpected shutdown of Benchmill on Production Line 2 during the morning shift can be attributed to multiple factors. \\n\\nThe high ambient temperature of 35 degrees Celsius and the motor surface temperature of 80 degrees Celsius indicate a potential overheating issue. This could be caused by the high load on the motor (70%) and the user workload (60%), which may have exceeded the motor's rated power of 1.5 HP. \\n\\nAdditionally, the voltage stability of 5% and the power wiring resistance of 0.01 ohms suggest potential electrical issues. The voltage fluctuation of 1% and the dust accumulation of 0.5 mm thickness could also contribute to the disruption.\\n\\nTo further investigate and confirm the root cause, a detailed analysis using techniques such as Failure Mode and Effects Analysis (FMEA) can be conducted. This will help identify the critical failure modes, their potential causes, and the associated risks.\"),\n",
       "  HumanMessage(content='What was my previous question?'),\n",
       "  AIMessage(content='The previous question was not provided.'),\n",
       "  HumanMessage(content='What was my previous PROMPT?'),\n",
       "  AIMessage(content='Your previous question was: \"Can you provide examples of incidents in manufacturing that can be analyzed using Root Cause Analysis and FMEA?\"'),\n",
       "  HumanMessage(content='how many tickets are related to benchmill'),\n",
       "  AIMessage(content='Based on the provided incident tickets, there is one ticket (INC0007654) that is related to the Benchmill.'),\n",
       "  HumanMessage(content='what tickets are related to bad maintainance'),\n",
       "  AIMessage(content='Based on the provided information, the tickets related to bad maintenance are:\\n\\n1. Incident Ticket ID: INC0001198 - Variations in the quality and accuracy of produced machined parts on Assembly Line 7. This ticket indicates that there may be issues with maintenance, as the power wiring resistance is higher than normal (0.51 ohms) and there is a higher voltage fluctuation (4%).\\n\\n2. Incident Ticket ID: INC0003557 - A sudden and unplanned production stoppage occurred on Assembly Line 3. This ticket suggests that there may be maintenance issues, as there is a higher dust accumulation (2 mm thickness) and the lubrication frequency is longer (100 hours) compared to the standard maintenance practices.\\n\\nThese incidents indicate that improper maintenance practices or neglecting maintenance tasks may have contributed to the issues experienced on the production lines. Performing a Root Cause Analysis (RCA) and Failure Mode and Effects Analysis (FMEA) can help identify the specific maintenance-related factors that led to these incidents.'),\n",
       "  HumanMessage(content='what tickets are related to bad maintainance'),\n",
       "  AIMessage(content='Based on the provided information, the incident tickets related to poor maintenance are:\\n\\n1. Incident Ticket ID: INC0003557 - A sudden and unplanned production stoppage occurred on Assembly Line 3, impacting the deliverables. The incident is related to poor maintenance due to the high dust accumulation of 2 mm thickness, which indicates a lack of regular cleaning and maintenance.\\n\\n2. Incident Ticket ID: INC0001198 - Variations in the quality and accuracy of produced machined parts on Assembly Line 7. This incident is also related to poor maintenance as indicated by the high voltage fluctuation of 4% and the high power wiring resistance of 0.51 ohms, suggesting inadequate electrical maintenance.\\n\\nBoth incidents highlight the importance of regular maintenance practices to prevent disruptions and ensure optimal performance in the manufacturing process.'),\n",
       "  HumanMessage(content='what tickets are related to bad maintainance'),\n",
       "  AIMessage(content='Based on the provided information, the incident tickets related to poor maintenance are:\\n\\n1. Incident Ticket ID: INC0003557 - A sudden and unplanned production stoppage occurred on Assembly Line 3, impacting the deliverables. The incident is related to poor maintenance due to the high dust accumulation of 2 mm thickness, which indicates a lack of regular cleaning and maintenance.\\n\\n2. Incident Ticket ID: INC0001198 - Variations in the quality and accuracy of produced machined parts on Assembly Line 7. This incident is also related to poor maintenance as indicated by the high voltage fluctuation of 4% and the high power wiring resistance of 0.51 ohms, suggesting inadequate electrical maintenance.\\n\\nThese incidents highlight the importance of regular maintenance practices to prevent disruptions and ensure optimal performance in manufacturing operations.'),\n",
       "  HumanMessage(content='what tickets are related to bad maintainance'),\n",
       "  AIMessage(content='Based on the provided information, the incident tickets related to poor maintenance are:\\n\\n1. Incident Ticket ID: INC0003557 - A sudden and unplanned production stoppage occurred on Assembly Line 3, impacting the deliverables. The incident is related to poor maintenance due to the high dust accumulation of 2 mm thickness, which indicates a lack of regular cleaning and maintenance.\\n\\n2. Incident Ticket ID: INC0001198 - Variations in the quality and accuracy of produced machined parts on Assembly Line 7. This incident is related to poor maintenance due to the high voltage fluctuation of 4% and the high power wiring resistance of 0.51 ohms, indicating a lack of proper electrical maintenance and monitoring.')],\n",
       " 'answer': 'Based on the provided information, the incident tickets related to poor maintenance are:\\n\\n1. Incident Ticket ID: INC0003557 - A sudden and unplanned production stoppage occurred on Assembly Line 3, impacting the deliverables. The incident is related to poor maintenance due to the high dust accumulation of 2 mm thickness, which indicates a lack of regular cleaning and maintenance.\\n\\n2. Incident Ticket ID: INC0001198 - Variations in the quality and accuracy of produced machined parts on Assembly Line 7. This incident is related to poor maintenance due to the high voltage fluctuation of 4% and the high power wiring resistance of 0.51 ohms, indicating a lack of proper electrical maintenance and monitoring.'}"
      ]
     },
     "execution_count": 114,
     "metadata": {},
     "output_type": "execute_result"
    }
   ],
   "source": [
    "fres = []\n",
    "async for n in copilotv.astream(\n",
    "      {\"question\": \"what tickets are related to bad maintainance\"}\n",
    "):\n",
    "    fres.append(n)\n",
    "\n",
    "fres[0]"
   ]
  },
  {
   "cell_type": "code",
   "execution_count": 115,
   "id": "bf8ddfef-141c-47b8-bb09-9b998f9566b7",
   "metadata": {},
   "outputs": [
    {
     "data": {
      "text/plain": [
       "'Based on the provided information, the incident tickets related to poor maintenance are:\\n\\n1. Incident Ticket ID: INC0003557 - A sudden and unplanned production stoppage occurred on Assembly Line 3, impacting the deliverables. The incident is related to poor maintenance due to the high dust accumulation of 2 mm thickness, which indicates a lack of regular cleaning and maintenance.\\n\\n2. Incident Ticket ID: INC0001198 - Variations in the quality and accuracy of produced machined parts on Assembly Line 7. This incident is related to poor maintenance due to the high voltage fluctuation of 4% and the high power wiring resistance of 0.51 ohms, indicating a lack of proper electrical maintenance and monitoring.'"
      ]
     },
     "execution_count": 115,
     "metadata": {},
     "output_type": "execute_result"
    }
   ],
   "source": [
    "fres[0].get(\"answer\")"
   ]
  },
  {
   "cell_type": "code",
   "execution_count": 143,
   "id": "94a832bb-2989-47fc-b61a-48ae16f711b6",
   "metadata": {},
   "outputs": [
    {
     "name": "stderr",
     "output_type": "stream",
     "text": [
      "2024-02-15 19:42:30 [INFO]: HTTP Request: POST http://localhost:8000/cotalk/stream \"HTTP/1.1 200 OK\"\n"
     ]
    },
    {
     "name": "stdout",
     "output_type": "stream",
     "text": [
      "{'question': 'what tickets are related to bad maintainance', 'chat_history': [HumanMessage(content='how many tickets are related to benchmill'), AIMessage(content='Based on the provided incident tickets, there is 1 ticket related to the Benchmill.'), HumanMessage(content='what are the others about then'), AIMessage(content='Ticket INC0004823: Excessive vibrations or unusual noise occurred on Production Line 11 and lead to poor product quality.\\n\\nTicket INC0001198: Variations in the quality and accuracy of produced machined parts on Assembly Line 7.\\n\\nTicket INC0007654: Production Line 2 experienced a sudden disruption during the morning shift due to unexpected shutdown of Benchmill impacting the production schedule.\\n\\nTicket INC0003557: A sudden and unplanned production stoppage occurred on Assembly Line 3 impacting the deliverables.'), HumanMessage(content='can you perform an individual root cause analysis and give me a plan of action for each of them'), AIMessage(content='Sure, I can perform a root cause analysis for each of the tickets mentioned and provide a plan of action. Here are the results:\\n\\nTicket ID: INC0007654\\nRoot Cause Analysis:\\nBased on the parameter values provided, the motor surface temperature (80 degrees Celsius) exceeds the standard value (<60 degrees Celsius). This indicates inadequate cooling leading to motor overheating.\\n\\nPlan of Action:\\n1. Check the cooling mechanisms: Ensure that the airflow rate through the cooling vents is >50 CFM.\\n2. Evaluate ambient temperature around the motor: Maintain the ambient temperature within the standard range of 20-25 degrees Celsius.\\n3. Improve cooling: Implement measures to enhance cooling, such as increasing airflow or installing additional cooling systems.\\n\\nTicket ID: INC0003557\\nRoot Cause Analysis:\\nNo breach of standard values was found in any of the parameters. The root cause of the sudden production stoppage is not listed in the reference guide.\\n\\nPlan of Action:\\n1. Perform a detailed inspection: Conduct a thorough examination of the assembly line to identify any potential issues or anomalies.\\n2. Review maintenance logs: Check for any irregularities or missed maintenance activities that could have contributed to the stoppage.\\n3. Analyze historical data: Look for any patterns or trends in previous incidents that'), HumanMessage(content='what did the study concluded'), AIMessage(content='The study concluded that only about 13% of methane emissions are covered by methane mitigation policies. Additionally, the effectiveness of these policies is far from clear.'), HumanMessage(content='tell me everything you know about'), AIMessage(content=\"I know several pieces of information about different topics. Here are some of them:\\n\\n1. There are theories of planetary formation that have been challenged.\\n2. There is a lowest-mass star hosting something, although it is not specified what it is hosting.\\n3. Five employees have published a tropical cyclone report.\\n4. In August, there was a new record high temperature reached.\\n5. The world's oceans have also reached a new record high temperature.\\n6. Hurricane Ian was upgraded from Category 4 to Category 5.\\n7. Hurricane Ian caused $112.9 billion worth of damage.\\n8. Hurricane Ian struck Florida.\\n9. The oxygen partial pressure is above 18%.\\n10. Emissions of chlorofluorocarbons have risen.\\n\\nPlease let me know if you would like more information on any specific topic.\"), HumanMessage(content='tell me about the earths heaviest animal'), AIMessage(content=\"The Earth's heaviest animal is the blue whale. It can weigh up to 200 tons, which is equivalent to about 400,000 pounds. These magnificent creatures can grow to be over 100 feet long and have a heart that weighs as much as a car. Despite their massive size, blue whales primarily feed on tiny shrimp-like animals called krill.\"), HumanMessage(content='what do you know about the motor'), AIMessage(content=\"I'm sorry, but I don't have any information about the motor.\"), HumanMessage(content='what do you know about the motor'), AIMessage(content=\"I'm sorry, but I don't have any information about the motor.\"), HumanMessage(content='what do you know about the motor'), AIMessage(content=\"I'm sorry, but I don't have any information about the motor.\"), HumanMessage(content='what do you know about the motor from benchmill'), AIMessage(content=\"I'm sorry, but I don't have any information about the motor from Benchmill.\"), HumanMessage(content='what do you know about the motor'), AIMessage(content=\"I'm sorry, but I don't have any information about the motor.\"), HumanMessage(content='what do you know about the voltage'), AIMessage(content='Voltage is a measure of electric potential difference between two points in an electrical circuit. It is commonly referred to as the force or pressure that pushes electric charges through a conductor. Voltage is typically measured in volts (V) and is an essential concept in understanding and analyzing electrical systems.'), HumanMessage(content='what do you know about the MCU'), AIMessage(content=\"I'm sorry, but I don't have any information about the MCU.\"), HumanMessage(content='what do you know about the US'), AIMessage(content='The United States, commonly known as the US, is a country located in North America. It is made up of 50 states, a federal district, and several territories. The US is known for its diverse culture, vibrant cities, and vast natural landscapes. It is the third-largest country by land area and has a population of over 330 million people. The US is a federal republic with a democratic system of government. It has a strong economy and is considered a global superpower. The country has had a significant impact on various aspects of global culture, including music, film, technology, and sports.'), HumanMessage(content='what do you know about the RCA'), AIMessage(content=\"I'm sorry, but I don't have any information about the RCA.\"), HumanMessage(content='what do you know about the root cause analysis'), AIMessage(content='Root cause analysis is a systematic process used to identify the underlying causes of a problem or issue. It involves investigating and analyzing the various factors that contribute to the occurrence of the problem, with the goal of identifying the primary cause or causes. By understanding the root cause, organizations can develop effective solutions and prevent the problem from recurring in the future. Root cause analysis is commonly used in industries such as manufacturing, healthcare, and engineering to improve processes, enhance quality, and minimize risks.'), HumanMessage(content='RCA on the first ticket'), AIMessage(content='Based on the provided information, the root cause analysis for the first ticket (INC0007654) identified the unexpected shutdown of the Benchmill as the root cause of the disruption in Production Line 2. The incident was likely caused by a combination of factors, including the motor surface temperature reaching 80 degrees Celsius, the load on the motor being at 70%, and the voltage stability being at 5%. These factors may have led to an overheating of the motor, resulting in the shutdown. Additionally, the maintenance logs showing a monthly frequency and the dust accumulation of 0.5 mm thickness may have contributed to the issue. Further analysis and investigation are recommended to confirm and address these root causes.'), HumanMessage(content='What was my previous question?'), AIMessage(content='I apologize, but I am an AI assistant and do not have the capability to remember previous questions. Is there anything else I can assist you with?'), HumanMessage(content='what did the study concluded'), AIMessage(content='The study concluded that only about 13% of methane emissions are covered by methane mitigation policies. Additionally, the effectiveness of these policies is far from clear.'), HumanMessage(content='tell me everything you know about'), AIMessage(content=\"I know several pieces of information about different topics. Here are some of them:\\n\\n1. There are theories of planetary formation that have been challenged.\\n2. There is a lowest-mass star hosting something, although it is not specified what it is hosting.\\n3. Five employees have published a tropical cyclone report.\\n4. In August, there was a new record high temperature reached.\\n5. The world's oceans have also reached a new record high temperature.\\n6. Hurricane Ian was upgraded from Category 4 to Category 5.\\n7. Hurricane Ian caused $112.9 billion worth of damage.\\n8. Hurricane Ian struck Florida.\\n9. The oxygen partial pressure is above 18%.\\n10. Emissions of chlorofluorocarbons have risen.\\n\\nPlease let me know if you would like more information on any specific topic.\"), HumanMessage(content='tell me about the earths heaviest animal'), AIMessage(content=\"The Earth's heaviest animal is the blue whale. It can weigh up to 200 tons, which is equivalent to about 400,000 pounds. These magnificent creatures can grow to be over 100 feet long and have a heart that weighs as much as a car. Despite their massive size, blue whales primarily feed on tiny shrimp-like animals called krill.\"), HumanMessage(content='what do you know about the root cause analysis'), AIMessage(content='Root cause analysis is a systematic process used to identify the underlying causes of a problem or issue. It involves investigating and analyzing the various factors that contribute to the occurrence of the problem, with the goal of identifying the primary cause or causes. By understanding the root cause, organizations can develop effective solutions and prevent the problem from recurring in the future. Root cause analysis is commonly used in industries such as manufacturing, healthcare, and engineering to improve processes, enhance quality, and minimize risks.'), HumanMessage(content='how many tickets are related to benchmill'), AIMessage(content='Based on the provided incident tickets, there is one ticket (INC0007654) that is related to the Benchmill.'), HumanMessage(content='what are the others about then'), AIMessage(content='The other tickets involve variations in the quality and accuracy of produced machined parts on Assembly Line 7, excessive vibrations or unusual noise on Production Line 11 leading to poor product quality, and a sudden disruption and unexpected shutdown of Benchmill on Production Line 2 impacting the production schedule. Additionally, there was a sudden and unplanned production stoppage on Assembly Line 3 impacting the deliverables.'), HumanMessage(content='can you perform an individual root cause analysis and give me a plan of action for each of them'), AIMessage(content='Ticket INC0007654:\\nRoot Cause Analysis:\\nBased on the parameter values provided, the likely root cause of the sudden disruption in Production Line 2 is inadequate cooling leading to motor overheating. This is indicated by the high motor surface temperature of 80 degrees Celsius, which exceeds the standard value of 60 degrees Celsius. Additionally, the airflow rate of 70 CFM meets the standard value, but it is recommended to check the cooling mechanisms for any potential issues.\\n\\nPlan of Action:\\n1. Check the cooling mechanisms of the Benchmill to ensure proper airflow and cooling.\\n2. Investigate and address any potential blockages or malfunctions in the cooling vents.\\n3. Implement measures to improve cooling efficiency, such as cleaning or replacing filters, if necessary.\\n4. Monitor the motor surface temperature during operation to ensure it remains within the standard value of 60 degrees Celsius.\\n\\nTicket INC0003557:\\nRoot Cause Analysis:\\nBased on the parameter values provided, the sudden production stoppage on Assembly Line 3 is not directly attributed to any breach of standard values in the RCA reference guide. The airflow rate, ambient temperature, motor surface temperature, load on motor, user workload, voltage stability, power wiring resistance, voltage fluctuation, maintenance logs, and lubrication frequency all meet'), HumanMessage(content='what did the study concluded'), AIMessage(content='The study concluded that only about 13% of methane emissions are covered by methane mitigation policies. Additionally, the effectiveness of these policies is far from clear.'), HumanMessage(content='tell me everything you know about'), AIMessage(content=\"I know several pieces of information about different topics. Here are some of them:\\n\\n1. There are theories of planetary formation that have been challenged.\\n2. There is a lowest-mass star hosting something, although it is not specified what it is hosting.\\n3. Five employees have published a tropical cyclone report.\\n4. In August, there was a new record high temperature reached.\\n5. The world's oceans have also reached a new record high temperature.\\n6. Hurricane Ian was upgraded from Category 4 to Category 5.\\n7. Hurricane Ian caused $112.9 billion worth of damage.\\n8. Hurricane Ian struck Florida.\\n9. The oxygen partial pressure is above 18%.\\n10. Emissions of chlorofluorocarbons have risen.\\n\\nPlease let me know if you would like more information on any specific topic.\"), HumanMessage(content='tell me about the earths heaviest animal'), AIMessage(content=\"The Earth's heaviest animal is the blue whale. It can weigh up to 200 tons, which is equivalent to about 400,000 pounds. These magnificent creatures can grow to be over 100 feet long and have a heart that weighs as much as a car. Despite their massive size, blue whales primarily feed on tiny shrimp-like animals called krill.\"), HumanMessage(content='what do you know about the root cause analysis'), AIMessage(content='Root cause analysis is a systematic process used to identify the underlying causes of a problem or issue. It involves investigating and analyzing the various factors that contribute to the occurrence of the problem, with the goal of identifying the primary cause or causes. By understanding the root cause, organizations can develop effective solutions and prevent the problem from recurring in the future. Root cause analysis is commonly used in industries such as manufacturing, healthcare, and engineering to improve processes, enhance quality, and minimize risks.'), HumanMessage(content='Perform FMEA on first ticket data'), AIMessage(content=\"Based on the data provided in the first ticket (INC0007654), a Failure Mode and Effects Analysis (FMEA) can be performed to identify potential failure modes, their effects, and the associated causes. \\n\\nFailure Mode: Unexpected shutdown of Benchmill\\nEffects: Disruption of production schedule\\nCauses:\\n1. Motor surface temperature: 80 degree celsius - High motor surface temperature can lead to overheating and shutdown.\\n2. Load on motor: 70% - High load on the motor can cause overheating and shutdown.\\n3. Voltage stability: 5% - Low voltage stability can affect the motor's performance and lead to shutdown.\\n4. Power wiring resistance: 0.01 ohms - High power wiring resistance can cause voltage drop and lead to shutdown.\\n5. Voltage fluctuation: 1% - Voltage fluctuations can affect the motor's performance and lead to shutdown.\\n6. Dust accumulation: 0.5 mm thickness - Dust accumulation can affect the motor's cooling and lead to overheating and shutdown.\\n7. Lubrication frequency: 50 hours - Inadequate lubrication can cause increased friction and overheating, leading to shutdown.\\n\\nBy analyzing these potential failure modes and their causes, appropriate preventive measures can be implemented to minimize the\"), HumanMessage(content='What was my previous question?'), AIMessage(content=\"I apologize for the confusion, but I don't have access to previous questions. However, if you have any specific question or need assistance with a manufacturing-related issue, I'll be happy to help.\"), HumanMessage(content='Perform FMEA on first ticket data'), AIMessage(content=\"Based on the data provided in the first ticket (INC0007654), a Failure Mode and Effects Analysis (FMEA) can be performed to identify potential failure modes, their causes, and their effects on the production line. \\n\\nFailure Mode: Unexpected shutdown of Benchmill\\nPotential Causes: \\n1. Motor surface temperature exceeding the normal range (80 degree celsius)\\n2. Load on motor exceeding the recommended limit (70%)\\n3. Voltage stability deviation (5%)\\n4. Power wiring resistance higher than the acceptable value (0.01 ohms)\\n5. Dust accumulation on the Benchmill (0.5 mm thickness)\\n6. Insufficient lubrication frequency (50 hours)\\n\\nPotential Effects:\\n1. Disruption in the production schedule\\n2. Decreased productivity\\n3. Increased downtime\\n4. Potential damage to the Benchmill\\n5. Increased maintenance and repair costs\\n\\nBased on the FMEA, further investigation and analysis should be conducted to determine the root cause of the unexpected shutdown of the Benchmill. This may involve examining the motor, voltage stability, power wiring, dust accumulation, and lubrication practices. By addressing the identified potential causes, the likelihood of future disruptions can be minimized, and the production line's reliability and efficiency can be improved.\"), HumanMessage(content='What was my previous question?'), AIMessage(content=\"I apologize for the confusion, but I don't have access to previous questions. However, if you have any specific question or need assistance with a manufacturing-related issue, I'll be happy to help.\"), HumanMessage(content='Perform RCA on first ticket data'), AIMessage(content=\"Based on the data from the first ticket (INC0007654), the root cause of the unexpected shutdown of Benchmill on Production Line 2 during the morning shift can be attributed to multiple factors. \\n\\nThe high ambient temperature of 35 degrees Celsius and the motor surface temperature of 80 degrees Celsius indicate a potential overheating issue. This could be caused by the high load on the motor (70%) and the user workload (60%), which may have exceeded the motor's rated power of 1.5 HP. \\n\\nAdditionally, the voltage stability of 5% and the power wiring resistance of 0.01 ohms suggest potential electrical issues. The voltage fluctuation of 1% and the dust accumulation of 0.5 mm thickness could also contribute to the disruption.\\n\\nTo further investigate and confirm the root cause, a detailed analysis using techniques such as Failure Mode and Effects Analysis (FMEA) can be conducted. This will help identify the critical failure modes, their potential causes, and the associated risks.\"), HumanMessage(content='What was my previous question?'), AIMessage(content='The previous question was not provided.'), HumanMessage(content='What was my previous PROMPT?'), AIMessage(content='Your previous question was: \"Can you provide examples of incidents in manufacturing that can be analyzed using Root Cause Analysis and FMEA?\"'), HumanMessage(content='how many tickets are related to benchmill'), AIMessage(content='Based on the provided incident tickets, there is one ticket (INC0007654) that is related to the Benchmill.'), HumanMessage(content='what tickets are related to bad maintainance'), AIMessage(content='Based on the provided information, the tickets related to bad maintenance are:\\n\\n1. Incident Ticket ID: INC0001198 - Variations in the quality and accuracy of produced machined parts on Assembly Line 7. This ticket indicates that there may be issues with maintenance, as the power wiring resistance is higher than normal (0.51 ohms) and there is a higher voltage fluctuation (4%).\\n\\n2. Incident Ticket ID: INC0003557 - A sudden and unplanned production stoppage occurred on Assembly Line 3. This ticket suggests that there may be maintenance issues, as there is a higher dust accumulation (2 mm thickness) and the lubrication frequency is longer (100 hours) compared to the standard maintenance practices.\\n\\nThese incidents indicate that improper maintenance practices or neglecting maintenance tasks may have contributed to the issues experienced on the production lines. Performing a Root Cause Analysis (RCA) and Failure Mode and Effects Analysis (FMEA) can help identify the specific maintenance-related factors that led to these incidents.'), HumanMessage(content='what tickets are related to bad maintainance'), AIMessage(content='Based on the provided information, the incident tickets related to poor maintenance are:\\n\\n1. Incident Ticket ID: INC0003557 - A sudden and unplanned production stoppage occurred on Assembly Line 3, impacting the deliverables. The incident is related to poor maintenance due to the high dust accumulation of 2 mm thickness, which indicates a lack of regular cleaning and maintenance.\\n\\n2. Incident Ticket ID: INC0001198 - Variations in the quality and accuracy of produced machined parts on Assembly Line 7. This incident is also related to poor maintenance as indicated by the high voltage fluctuation of 4% and the high power wiring resistance of 0.51 ohms, suggesting inadequate electrical maintenance.\\n\\nBoth incidents highlight the importance of regular maintenance practices to prevent disruptions and ensure optimal performance in the manufacturing process.'), HumanMessage(content='what tickets are related to bad maintainance'), AIMessage(content='Based on the provided information, the incident tickets related to poor maintenance are:\\n\\n1. Incident Ticket ID: INC0003557 - A sudden and unplanned production stoppage occurred on Assembly Line 3, impacting the deliverables. The incident is related to poor maintenance due to the high dust accumulation of 2 mm thickness, which indicates a lack of regular cleaning and maintenance.\\n\\n2. Incident Ticket ID: INC0001198 - Variations in the quality and accuracy of produced machined parts on Assembly Line 7. This incident is also related to poor maintenance as indicated by the high voltage fluctuation of 4% and the high power wiring resistance of 0.51 ohms, suggesting inadequate electrical maintenance.\\n\\nThese incidents highlight the importance of regular maintenance practices to prevent disruptions and ensure optimal performance in manufacturing operations.'), HumanMessage(content='what tickets are related to bad maintainance'), AIMessage(content='Based on the provided information, the incident tickets related to poor maintenance are:\\n\\n1. Incident Ticket ID: INC0003557 - A sudden and unplanned production stoppage occurred on Assembly Line 3, impacting the deliverables. The incident is related to poor maintenance due to the high dust accumulation of 2 mm thickness, which indicates a lack of regular cleaning and maintenance.\\n\\n2. Incident Ticket ID: INC0001198 - Variations in the quality and accuracy of produced machined parts on Assembly Line 7. This incident is related to poor maintenance due to the high voltage fluctuation of 4% and the high power wiring resistance of 0.51 ohms, indicating a lack of proper electrical maintenance and monitoring.'), HumanMessage(content='how many tickets are related to benchmill'), AIMessage(content='Based on the provided incident tickets, there is one ticket (INC0007654) that is related to the Benchmill.'), HumanMessage(content='how many tickets are related to benchmill'), AIMessage(content='Based on the provided incident tickets, there is one ticket (INC0007654) that is related to the Benchmill.'), HumanMessage(content='how many tickets are related to benchmill'), AIMessage(content='Based on the provided incident tickets, there is one ticket (INC0007654) that is related to the Benchmill.'), HumanMessage(content='how many tickets are related to benchmill'), AIMessage(content='Based on the provided incident tickets, there is one ticket (INC0007654) that is related to the Benchmill.'), HumanMessage(content='what are the others about then'), AIMessage(content='The other incident tickets are about a sudden disruption in Production Line 2 due to the unexpected shutdown of Benchmill, excessive vibrations or unusual noise on Production Line 11 leading to poor product quality, a sudden and unplanned production stoppage on Assembly Line 3 impacting the deliverables, and variations in the quality and accuracy of produced machined parts on Assembly Line 7.'), HumanMessage(content='can you perform an individual root cause analysis and give me a plan of action for each of them'), AIMessage(content=\"Sure, I can perform a root cause analysis for each incident ticket and provide a plan of action. Here are the results:\\n\\nIncident Ticket ID: INC0007654\\nRoot Cause Analysis: The unexpected shutdown of Benchmill on Production Line 2 was caused by high motor surface temperature (80 degree celsius) and high load on the motor (70%). This led to overheating and subsequent shutdown.\\n\\nPlan of Action: \\n1. Implement regular maintenance checks to ensure proper cooling of the motor surface temperature.\\n2. Optimize the load on the motor to prevent overheating.\\n3. Monitor and maintain proper voltage stability to avoid any fluctuations that may impact the motor performance.\\n4. Increase the frequency of dust accumulation checks and cleaning to prevent any blockages that may affect the motor's performance.\\n\\nIncident Ticket ID: INC0003557\\nRoot Cause Analysis: The sudden production stoppage on Assembly Line 3 was caused by excessive dust accumulation (2 mm thickness) on the motor and poor lubrication frequency (100 hours).\\n\\nPlan of Action:\\n1. Increase the frequency of dust accumulation checks and cleaning to prevent excessive build-up.\\n2. Implement a more frequent lubrication schedule (e.g., every 50 hours) to ensure proper functioning of the motor.\\n3. Regular\"), HumanMessage(content='what tickets are related to bad maintainance'), AIMessage(content='Based on the provided information, the incident tickets related to poor maintenance are:\\n\\n1. Incident Ticket ID: INC0003557 - A sudden and unplanned production stoppage occurred on Assembly Line 3, impacting the deliverables. The incident is related to poor maintenance due to the high dust accumulation of 2 mm thickness, which indicates a lack of regular cleaning and maintenance.\\n\\n2. Incident Ticket ID: INC0001198 - Variations in the quality and accuracy of produced machined parts on Assembly Line 7. This incident is also related to poor maintenance as indicated by the high voltage fluctuation of 4% and the high power wiring resistance of 0.51 ohms, suggesting inadequate electrical maintenance.\\n\\nThese incidents highlight the importance of regular maintenance practices to prevent disruptions and ensure optimal performance in manufacturing operations.')], 'answer': 'Based on the provided information, the incident tickets related to poor maintenance are:\\n\\n1. Incident Ticket ID: INC0003557 - A sudden and unplanned production stoppage occurred on Assembly Line 3, impacting the deliverables. The incident is related to poor maintenance due to the high dust accumulation of 2 mm thickness, which indicates a lack of regular cleaning and maintenance.\\n\\n2. Incident Ticket ID: INC0001198 - Variations in the quality and accuracy of produced machined parts on Assembly Line 7. This incident is also related to poor maintenance as indicated by the high voltage fluctuation of 4% and the high power wiring resistance of 0.51 ohms, suggesting inadequate electrical maintenance.\\n\\nThese incidents highlight the importance of regular maintenance practices to prevent disruptions and ensure optimal performance in manufacturing operations.'}\n"
     ]
    }
   ],
   "source": [
    "async for chunk in copilotv.astream(\n",
    "      {\"question\": \"what tickets are related to bad maintainance\"}\n",
    "):\n",
    "        print(chunk)"
   ]
  },
  {
   "cell_type": "code",
   "execution_count": null,
   "id": "7d5fb001-e3a4-4956-8132-0d5d4f970585",
   "metadata": {},
   "outputs": [],
   "source": []
  },
  {
   "cell_type": "markdown",
   "id": "ac2c2af5-496d-4873-a89f-3e2dae401dfb",
   "metadata": {},
   "source": [
    "TESTING WITH DIFFERENT TOOLS"
   ]
  },
  {
   "cell_type": "code",
   "execution_count": 84,
   "id": "a76a4077-384a-4520-92df-6769fa942e73",
   "metadata": {},
   "outputs": [],
   "source": [
    "from langchain.agents import tool\n",
    "\n",
    "\n",
    "@tool\n",
    "def get_word_length(word: str) -> int:\n",
    "    \"\"\"Returns the length of a word.\"\"\"\n",
    "    return len(word)\n",
    "\n",
    "tools = [get_word_length]\n",
    "\n",
    "\n",
    "from langchain_core.prompts import ChatPromptTemplate, MessagesPlaceholder\n",
    "\n",
    "prompt = ChatPromptTemplate.from_messages(\n",
    "    [\n",
    "        (\n",
    "            \"system\",\n",
    "            \"You are very powerful assistant, but don't know current events\",\n",
    "        ),\n",
    "        (\"user\", \"{input}\"),\n",
    "        MessagesPlaceholder(variable_name=\"agent_scratchpad\"),\n",
    "    ]\n",
    ")"
   ]
  },
  {
   "cell_type": "code",
   "execution_count": 88,
   "id": "1c2f22ff-00be-489b-8b5b-446e03a5121c",
   "metadata": {},
   "outputs": [],
   "source": [
    "llm_with_tools = llmrca.bind_tools(tools)\n",
    "\n"
   ]
  },
  {
   "cell_type": "code",
   "execution_count": 90,
   "id": "2b8f4636-3817-40f5-aefd-f4e654d717df",
   "metadata": {},
   "outputs": [],
   "source": [
    "from langchain.agents.format_scratchpad.openai_tools import (\n",
    "    format_to_openai_tool_messages,\n",
    ")\n",
    "from langchain.agents.output_parsers.openai_tools import OpenAIToolsAgentOutputParser\n",
    "\n",
    "agent = (\n",
    "    {\n",
    "        \"input\": lambda x: x[\"input\"],\n",
    "        \"agent_scratchpad\": lambda x: format_to_openai_tool_messages(\n",
    "            x[\"intermediate_steps\"]\n",
    "        ),\n",
    "    }\n",
    "    | prompt\n",
    "    | llm_with_tools\n",
    "    | OpenAIToolsAgentOutputParser()\n",
    ")\n",
    "\n",
    "from langchain.agents import AgentExecutor\n",
    "\n",
    "agent_executor = AgentExecutor(agent=agent, tools=tools, verbose=True)"
   ]
  },
  {
   "cell_type": "code",
   "execution_count": 93,
   "id": "9b1114bc-eca9-4069-9ec0-e9b0da2db1f2",
   "metadata": {},
   "outputs": [],
   "source": [
    "# list(agent_executor.invoke({\"input\": \"How many letters in the word eudca\"}))\n",
    "\n"
   ]
  },
  {
   "cell_type": "code",
   "execution_count": 98,
   "id": "dc81087d-8129-4102-940e-54cf116164d3",
   "metadata": {},
   "outputs": [
    {
     "name": "stderr",
     "output_type": "stream",
     "text": [
      "2024-02-15 15:38:04 [INFO]: HTTP Request: POST https://usedoai0efaoa03.openai.azure.com//openai/deployments/mxdrca/chat/completions?api-version=2023-05-15 \"HTTP/1.1 404 model_error\"\n"
     ]
    },
    {
     "ename": "NotFoundError",
     "evalue": "Error code: 404 - {'error': {'message': 'Unrecognized request argument supplied: tools', 'type': 'invalid_request_error', 'param': None, 'code': None}}",
     "output_type": "error",
     "traceback": [
      "\u001b[1;31m---------------------------------------------------------------------------\u001b[0m",
      "\u001b[1;31mNotFoundError\u001b[0m                             Traceback (most recent call last)",
      "Cell \u001b[1;32mIn[98], line 1\u001b[0m\n\u001b[1;32m----> 1\u001b[0m llm_with_tools\u001b[38;5;241m.\u001b[39minvoke(\u001b[38;5;124m\"\u001b[39m\u001b[38;5;124mHow many letters in the word eudca\u001b[39m\u001b[38;5;124m\"\u001b[39m)\n",
      "File \u001b[1;32m~\\Anaconda3\\envs\\llm\\Lib\\site-packages\\langchain_core\\runnables\\base.py:4064\u001b[0m, in \u001b[0;36mRunnableBindingBase.invoke\u001b[1;34m(self, input, config, **kwargs)\u001b[0m\n\u001b[0;32m   4058\u001b[0m \u001b[38;5;28;01mdef\u001b[39;00m \u001b[38;5;21minvoke\u001b[39m(\n\u001b[0;32m   4059\u001b[0m     \u001b[38;5;28mself\u001b[39m,\n\u001b[0;32m   4060\u001b[0m     \u001b[38;5;28minput\u001b[39m: Input,\n\u001b[0;32m   4061\u001b[0m     config: Optional[RunnableConfig] \u001b[38;5;241m=\u001b[39m \u001b[38;5;28;01mNone\u001b[39;00m,\n\u001b[0;32m   4062\u001b[0m     \u001b[38;5;241m*\u001b[39m\u001b[38;5;241m*\u001b[39mkwargs: Optional[Any],\n\u001b[0;32m   4063\u001b[0m ) \u001b[38;5;241m-\u001b[39m\u001b[38;5;241m>\u001b[39m Output:\n\u001b[1;32m-> 4064\u001b[0m     \u001b[38;5;28;01mreturn\u001b[39;00m \u001b[38;5;28mself\u001b[39m\u001b[38;5;241m.\u001b[39mbound\u001b[38;5;241m.\u001b[39minvoke(\n\u001b[0;32m   4065\u001b[0m         \u001b[38;5;28minput\u001b[39m,\n\u001b[0;32m   4066\u001b[0m         \u001b[38;5;28mself\u001b[39m\u001b[38;5;241m.\u001b[39m_merge_configs(config),\n\u001b[0;32m   4067\u001b[0m         \u001b[38;5;241m*\u001b[39m\u001b[38;5;241m*\u001b[39m{\u001b[38;5;241m*\u001b[39m\u001b[38;5;241m*\u001b[39m\u001b[38;5;28mself\u001b[39m\u001b[38;5;241m.\u001b[39mkwargs, \u001b[38;5;241m*\u001b[39m\u001b[38;5;241m*\u001b[39mkwargs},\n\u001b[0;32m   4068\u001b[0m     )\n",
      "File \u001b[1;32m~\\Anaconda3\\envs\\llm\\Lib\\site-packages\\langchain_core\\language_models\\chat_models.py:166\u001b[0m, in \u001b[0;36mBaseChatModel.invoke\u001b[1;34m(self, input, config, stop, **kwargs)\u001b[0m\n\u001b[0;32m    155\u001b[0m \u001b[38;5;28;01mdef\u001b[39;00m \u001b[38;5;21minvoke\u001b[39m(\n\u001b[0;32m    156\u001b[0m     \u001b[38;5;28mself\u001b[39m,\n\u001b[0;32m    157\u001b[0m     \u001b[38;5;28minput\u001b[39m: LanguageModelInput,\n\u001b[1;32m   (...)\u001b[0m\n\u001b[0;32m    161\u001b[0m     \u001b[38;5;241m*\u001b[39m\u001b[38;5;241m*\u001b[39mkwargs: Any,\n\u001b[0;32m    162\u001b[0m ) \u001b[38;5;241m-\u001b[39m\u001b[38;5;241m>\u001b[39m BaseMessage:\n\u001b[0;32m    163\u001b[0m     config \u001b[38;5;241m=\u001b[39m ensure_config(config)\n\u001b[0;32m    164\u001b[0m     \u001b[38;5;28;01mreturn\u001b[39;00m cast(\n\u001b[0;32m    165\u001b[0m         ChatGeneration,\n\u001b[1;32m--> 166\u001b[0m         \u001b[38;5;28mself\u001b[39m\u001b[38;5;241m.\u001b[39mgenerate_prompt(\n\u001b[0;32m    167\u001b[0m             [\u001b[38;5;28mself\u001b[39m\u001b[38;5;241m.\u001b[39m_convert_input(\u001b[38;5;28minput\u001b[39m)],\n\u001b[0;32m    168\u001b[0m             stop\u001b[38;5;241m=\u001b[39mstop,\n\u001b[0;32m    169\u001b[0m             callbacks\u001b[38;5;241m=\u001b[39mconfig\u001b[38;5;241m.\u001b[39mget(\u001b[38;5;124m\"\u001b[39m\u001b[38;5;124mcallbacks\u001b[39m\u001b[38;5;124m\"\u001b[39m),\n\u001b[0;32m    170\u001b[0m             tags\u001b[38;5;241m=\u001b[39mconfig\u001b[38;5;241m.\u001b[39mget(\u001b[38;5;124m\"\u001b[39m\u001b[38;5;124mtags\u001b[39m\u001b[38;5;124m\"\u001b[39m),\n\u001b[0;32m    171\u001b[0m             metadata\u001b[38;5;241m=\u001b[39mconfig\u001b[38;5;241m.\u001b[39mget(\u001b[38;5;124m\"\u001b[39m\u001b[38;5;124mmetadata\u001b[39m\u001b[38;5;124m\"\u001b[39m),\n\u001b[0;32m    172\u001b[0m             run_name\u001b[38;5;241m=\u001b[39mconfig\u001b[38;5;241m.\u001b[39mget(\u001b[38;5;124m\"\u001b[39m\u001b[38;5;124mrun_name\u001b[39m\u001b[38;5;124m\"\u001b[39m),\n\u001b[0;32m    173\u001b[0m             \u001b[38;5;241m*\u001b[39m\u001b[38;5;241m*\u001b[39mkwargs,\n\u001b[0;32m    174\u001b[0m         )\u001b[38;5;241m.\u001b[39mgenerations[\u001b[38;5;241m0\u001b[39m][\u001b[38;5;241m0\u001b[39m],\n\u001b[0;32m    175\u001b[0m     )\u001b[38;5;241m.\u001b[39mmessage\n",
      "File \u001b[1;32m~\\Anaconda3\\envs\\llm\\Lib\\site-packages\\langchain_core\\language_models\\chat_models.py:544\u001b[0m, in \u001b[0;36mBaseChatModel.generate_prompt\u001b[1;34m(self, prompts, stop, callbacks, **kwargs)\u001b[0m\n\u001b[0;32m    536\u001b[0m \u001b[38;5;28;01mdef\u001b[39;00m \u001b[38;5;21mgenerate_prompt\u001b[39m(\n\u001b[0;32m    537\u001b[0m     \u001b[38;5;28mself\u001b[39m,\n\u001b[0;32m    538\u001b[0m     prompts: List[PromptValue],\n\u001b[1;32m   (...)\u001b[0m\n\u001b[0;32m    541\u001b[0m     \u001b[38;5;241m*\u001b[39m\u001b[38;5;241m*\u001b[39mkwargs: Any,\n\u001b[0;32m    542\u001b[0m ) \u001b[38;5;241m-\u001b[39m\u001b[38;5;241m>\u001b[39m LLMResult:\n\u001b[0;32m    543\u001b[0m     prompt_messages \u001b[38;5;241m=\u001b[39m [p\u001b[38;5;241m.\u001b[39mto_messages() \u001b[38;5;28;01mfor\u001b[39;00m p \u001b[38;5;129;01min\u001b[39;00m prompts]\n\u001b[1;32m--> 544\u001b[0m     \u001b[38;5;28;01mreturn\u001b[39;00m \u001b[38;5;28mself\u001b[39m\u001b[38;5;241m.\u001b[39mgenerate(prompt_messages, stop\u001b[38;5;241m=\u001b[39mstop, callbacks\u001b[38;5;241m=\u001b[39mcallbacks, \u001b[38;5;241m*\u001b[39m\u001b[38;5;241m*\u001b[39mkwargs)\n",
      "File \u001b[1;32m~\\Anaconda3\\envs\\llm\\Lib\\site-packages\\langchain_core\\language_models\\chat_models.py:408\u001b[0m, in \u001b[0;36mBaseChatModel.generate\u001b[1;34m(self, messages, stop, callbacks, tags, metadata, run_name, **kwargs)\u001b[0m\n\u001b[0;32m    406\u001b[0m         \u001b[38;5;28;01mif\u001b[39;00m run_managers:\n\u001b[0;32m    407\u001b[0m             run_managers[i]\u001b[38;5;241m.\u001b[39mon_llm_error(e, response\u001b[38;5;241m=\u001b[39mLLMResult(generations\u001b[38;5;241m=\u001b[39m[]))\n\u001b[1;32m--> 408\u001b[0m         \u001b[38;5;28;01mraise\u001b[39;00m e\n\u001b[0;32m    409\u001b[0m flattened_outputs \u001b[38;5;241m=\u001b[39m [\n\u001b[0;32m    410\u001b[0m     LLMResult(generations\u001b[38;5;241m=\u001b[39m[res\u001b[38;5;241m.\u001b[39mgenerations], llm_output\u001b[38;5;241m=\u001b[39mres\u001b[38;5;241m.\u001b[39mllm_output)\n\u001b[0;32m    411\u001b[0m     \u001b[38;5;28;01mfor\u001b[39;00m res \u001b[38;5;129;01min\u001b[39;00m results\n\u001b[0;32m    412\u001b[0m ]\n\u001b[0;32m    413\u001b[0m llm_output \u001b[38;5;241m=\u001b[39m \u001b[38;5;28mself\u001b[39m\u001b[38;5;241m.\u001b[39m_combine_llm_outputs([res\u001b[38;5;241m.\u001b[39mllm_output \u001b[38;5;28;01mfor\u001b[39;00m res \u001b[38;5;129;01min\u001b[39;00m results])\n",
      "File \u001b[1;32m~\\Anaconda3\\envs\\llm\\Lib\\site-packages\\langchain_core\\language_models\\chat_models.py:398\u001b[0m, in \u001b[0;36mBaseChatModel.generate\u001b[1;34m(self, messages, stop, callbacks, tags, metadata, run_name, **kwargs)\u001b[0m\n\u001b[0;32m    395\u001b[0m \u001b[38;5;28;01mfor\u001b[39;00m i, m \u001b[38;5;129;01min\u001b[39;00m \u001b[38;5;28menumerate\u001b[39m(messages):\n\u001b[0;32m    396\u001b[0m     \u001b[38;5;28;01mtry\u001b[39;00m:\n\u001b[0;32m    397\u001b[0m         results\u001b[38;5;241m.\u001b[39mappend(\n\u001b[1;32m--> 398\u001b[0m             \u001b[38;5;28mself\u001b[39m\u001b[38;5;241m.\u001b[39m_generate_with_cache(\n\u001b[0;32m    399\u001b[0m                 m,\n\u001b[0;32m    400\u001b[0m                 stop\u001b[38;5;241m=\u001b[39mstop,\n\u001b[0;32m    401\u001b[0m                 run_manager\u001b[38;5;241m=\u001b[39mrun_managers[i] \u001b[38;5;28;01mif\u001b[39;00m run_managers \u001b[38;5;28;01melse\u001b[39;00m \u001b[38;5;28;01mNone\u001b[39;00m,\n\u001b[0;32m    402\u001b[0m                 \u001b[38;5;241m*\u001b[39m\u001b[38;5;241m*\u001b[39mkwargs,\n\u001b[0;32m    403\u001b[0m             )\n\u001b[0;32m    404\u001b[0m         )\n\u001b[0;32m    405\u001b[0m     \u001b[38;5;28;01mexcept\u001b[39;00m \u001b[38;5;167;01mBaseException\u001b[39;00m \u001b[38;5;28;01mas\u001b[39;00m e:\n\u001b[0;32m    406\u001b[0m         \u001b[38;5;28;01mif\u001b[39;00m run_managers:\n",
      "File \u001b[1;32m~\\Anaconda3\\envs\\llm\\Lib\\site-packages\\langchain_core\\language_models\\chat_models.py:577\u001b[0m, in \u001b[0;36mBaseChatModel._generate_with_cache\u001b[1;34m(self, messages, stop, run_manager, **kwargs)\u001b[0m\n\u001b[0;32m    573\u001b[0m     \u001b[38;5;28;01mraise\u001b[39;00m \u001b[38;5;167;01mValueError\u001b[39;00m(\n\u001b[0;32m    574\u001b[0m         \u001b[38;5;124m\"\u001b[39m\u001b[38;5;124mAsked to cache, but no cache found at `langchain.cache`.\u001b[39m\u001b[38;5;124m\"\u001b[39m\n\u001b[0;32m    575\u001b[0m     )\n\u001b[0;32m    576\u001b[0m \u001b[38;5;28;01mif\u001b[39;00m new_arg_supported:\n\u001b[1;32m--> 577\u001b[0m     \u001b[38;5;28;01mreturn\u001b[39;00m \u001b[38;5;28mself\u001b[39m\u001b[38;5;241m.\u001b[39m_generate(\n\u001b[0;32m    578\u001b[0m         messages, stop\u001b[38;5;241m=\u001b[39mstop, run_manager\u001b[38;5;241m=\u001b[39mrun_manager, \u001b[38;5;241m*\u001b[39m\u001b[38;5;241m*\u001b[39mkwargs\n\u001b[0;32m    579\u001b[0m     )\n\u001b[0;32m    580\u001b[0m \u001b[38;5;28;01melse\u001b[39;00m:\n\u001b[0;32m    581\u001b[0m     \u001b[38;5;28;01mreturn\u001b[39;00m \u001b[38;5;28mself\u001b[39m\u001b[38;5;241m.\u001b[39m_generate(messages, stop\u001b[38;5;241m=\u001b[39mstop, \u001b[38;5;241m*\u001b[39m\u001b[38;5;241m*\u001b[39mkwargs)\n",
      "File \u001b[1;32m~\\Anaconda3\\envs\\llm\\Lib\\site-packages\\langchain_openai\\chat_models\\base.py:451\u001b[0m, in \u001b[0;36mChatOpenAI._generate\u001b[1;34m(self, messages, stop, run_manager, stream, **kwargs)\u001b[0m\n\u001b[0;32m    445\u001b[0m message_dicts, params \u001b[38;5;241m=\u001b[39m \u001b[38;5;28mself\u001b[39m\u001b[38;5;241m.\u001b[39m_create_message_dicts(messages, stop)\n\u001b[0;32m    446\u001b[0m params \u001b[38;5;241m=\u001b[39m {\n\u001b[0;32m    447\u001b[0m     \u001b[38;5;241m*\u001b[39m\u001b[38;5;241m*\u001b[39mparams,\n\u001b[0;32m    448\u001b[0m     \u001b[38;5;241m*\u001b[39m\u001b[38;5;241m*\u001b[39m({\u001b[38;5;124m\"\u001b[39m\u001b[38;5;124mstream\u001b[39m\u001b[38;5;124m\"\u001b[39m: stream} \u001b[38;5;28;01mif\u001b[39;00m stream \u001b[38;5;129;01mis\u001b[39;00m \u001b[38;5;129;01mnot\u001b[39;00m \u001b[38;5;28;01mNone\u001b[39;00m \u001b[38;5;28;01melse\u001b[39;00m {}),\n\u001b[0;32m    449\u001b[0m     \u001b[38;5;241m*\u001b[39m\u001b[38;5;241m*\u001b[39mkwargs,\n\u001b[0;32m    450\u001b[0m }\n\u001b[1;32m--> 451\u001b[0m response \u001b[38;5;241m=\u001b[39m \u001b[38;5;28mself\u001b[39m\u001b[38;5;241m.\u001b[39mclient\u001b[38;5;241m.\u001b[39mcreate(messages\u001b[38;5;241m=\u001b[39mmessage_dicts, \u001b[38;5;241m*\u001b[39m\u001b[38;5;241m*\u001b[39mparams)\n\u001b[0;32m    452\u001b[0m \u001b[38;5;28;01mreturn\u001b[39;00m \u001b[38;5;28mself\u001b[39m\u001b[38;5;241m.\u001b[39m_create_chat_result(response)\n",
      "File \u001b[1;32m~\\Anaconda3\\envs\\llm\\Lib\\site-packages\\openai\\_utils\\_utils.py:271\u001b[0m, in \u001b[0;36mrequired_args.<locals>.inner.<locals>.wrapper\u001b[1;34m(*args, **kwargs)\u001b[0m\n\u001b[0;32m    269\u001b[0m             msg \u001b[38;5;241m=\u001b[39m \u001b[38;5;124mf\u001b[39m\u001b[38;5;124m\"\u001b[39m\u001b[38;5;124mMissing required argument: \u001b[39m\u001b[38;5;132;01m{\u001b[39;00mquote(missing[\u001b[38;5;241m0\u001b[39m])\u001b[38;5;132;01m}\u001b[39;00m\u001b[38;5;124m\"\u001b[39m\n\u001b[0;32m    270\u001b[0m     \u001b[38;5;28;01mraise\u001b[39;00m \u001b[38;5;167;01mTypeError\u001b[39;00m(msg)\n\u001b[1;32m--> 271\u001b[0m \u001b[38;5;28;01mreturn\u001b[39;00m func(\u001b[38;5;241m*\u001b[39margs, \u001b[38;5;241m*\u001b[39m\u001b[38;5;241m*\u001b[39mkwargs)\n",
      "File \u001b[1;32m~\\Anaconda3\\envs\\llm\\Lib\\site-packages\\openai\\resources\\chat\\completions.py:659\u001b[0m, in \u001b[0;36mCompletions.create\u001b[1;34m(self, messages, model, frequency_penalty, function_call, functions, logit_bias, logprobs, max_tokens, n, presence_penalty, response_format, seed, stop, stream, temperature, tool_choice, tools, top_logprobs, top_p, user, extra_headers, extra_query, extra_body, timeout)\u001b[0m\n\u001b[0;32m    608\u001b[0m \u001b[38;5;129m@required_args\u001b[39m([\u001b[38;5;124m\"\u001b[39m\u001b[38;5;124mmessages\u001b[39m\u001b[38;5;124m\"\u001b[39m, \u001b[38;5;124m\"\u001b[39m\u001b[38;5;124mmodel\u001b[39m\u001b[38;5;124m\"\u001b[39m], [\u001b[38;5;124m\"\u001b[39m\u001b[38;5;124mmessages\u001b[39m\u001b[38;5;124m\"\u001b[39m, \u001b[38;5;124m\"\u001b[39m\u001b[38;5;124mmodel\u001b[39m\u001b[38;5;124m\"\u001b[39m, \u001b[38;5;124m\"\u001b[39m\u001b[38;5;124mstream\u001b[39m\u001b[38;5;124m\"\u001b[39m])\n\u001b[0;32m    609\u001b[0m \u001b[38;5;28;01mdef\u001b[39;00m \u001b[38;5;21mcreate\u001b[39m(\n\u001b[0;32m    610\u001b[0m     \u001b[38;5;28mself\u001b[39m,\n\u001b[1;32m   (...)\u001b[0m\n\u001b[0;32m    657\u001b[0m     timeout: \u001b[38;5;28mfloat\u001b[39m \u001b[38;5;241m|\u001b[39m httpx\u001b[38;5;241m.\u001b[39mTimeout \u001b[38;5;241m|\u001b[39m \u001b[38;5;28;01mNone\u001b[39;00m \u001b[38;5;241m|\u001b[39m NotGiven \u001b[38;5;241m=\u001b[39m NOT_GIVEN,\n\u001b[0;32m    658\u001b[0m ) \u001b[38;5;241m-\u001b[39m\u001b[38;5;241m>\u001b[39m ChatCompletion \u001b[38;5;241m|\u001b[39m Stream[ChatCompletionChunk]:\n\u001b[1;32m--> 659\u001b[0m     \u001b[38;5;28;01mreturn\u001b[39;00m \u001b[38;5;28mself\u001b[39m\u001b[38;5;241m.\u001b[39m_post(\n\u001b[0;32m    660\u001b[0m         \u001b[38;5;124m\"\u001b[39m\u001b[38;5;124m/chat/completions\u001b[39m\u001b[38;5;124m\"\u001b[39m,\n\u001b[0;32m    661\u001b[0m         body\u001b[38;5;241m=\u001b[39mmaybe_transform(\n\u001b[0;32m    662\u001b[0m             {\n\u001b[0;32m    663\u001b[0m                 \u001b[38;5;124m\"\u001b[39m\u001b[38;5;124mmessages\u001b[39m\u001b[38;5;124m\"\u001b[39m: messages,\n\u001b[0;32m    664\u001b[0m                 \u001b[38;5;124m\"\u001b[39m\u001b[38;5;124mmodel\u001b[39m\u001b[38;5;124m\"\u001b[39m: model,\n\u001b[0;32m    665\u001b[0m                 \u001b[38;5;124m\"\u001b[39m\u001b[38;5;124mfrequency_penalty\u001b[39m\u001b[38;5;124m\"\u001b[39m: frequency_penalty,\n\u001b[0;32m    666\u001b[0m                 \u001b[38;5;124m\"\u001b[39m\u001b[38;5;124mfunction_call\u001b[39m\u001b[38;5;124m\"\u001b[39m: function_call,\n\u001b[0;32m    667\u001b[0m                 \u001b[38;5;124m\"\u001b[39m\u001b[38;5;124mfunctions\u001b[39m\u001b[38;5;124m\"\u001b[39m: functions,\n\u001b[0;32m    668\u001b[0m                 \u001b[38;5;124m\"\u001b[39m\u001b[38;5;124mlogit_bias\u001b[39m\u001b[38;5;124m\"\u001b[39m: logit_bias,\n\u001b[0;32m    669\u001b[0m                 \u001b[38;5;124m\"\u001b[39m\u001b[38;5;124mlogprobs\u001b[39m\u001b[38;5;124m\"\u001b[39m: logprobs,\n\u001b[0;32m    670\u001b[0m                 \u001b[38;5;124m\"\u001b[39m\u001b[38;5;124mmax_tokens\u001b[39m\u001b[38;5;124m\"\u001b[39m: max_tokens,\n\u001b[0;32m    671\u001b[0m                 \u001b[38;5;124m\"\u001b[39m\u001b[38;5;124mn\u001b[39m\u001b[38;5;124m\"\u001b[39m: n,\n\u001b[0;32m    672\u001b[0m                 \u001b[38;5;124m\"\u001b[39m\u001b[38;5;124mpresence_penalty\u001b[39m\u001b[38;5;124m\"\u001b[39m: presence_penalty,\n\u001b[0;32m    673\u001b[0m                 \u001b[38;5;124m\"\u001b[39m\u001b[38;5;124mresponse_format\u001b[39m\u001b[38;5;124m\"\u001b[39m: response_format,\n\u001b[0;32m    674\u001b[0m                 \u001b[38;5;124m\"\u001b[39m\u001b[38;5;124mseed\u001b[39m\u001b[38;5;124m\"\u001b[39m: seed,\n\u001b[0;32m    675\u001b[0m                 \u001b[38;5;124m\"\u001b[39m\u001b[38;5;124mstop\u001b[39m\u001b[38;5;124m\"\u001b[39m: stop,\n\u001b[0;32m    676\u001b[0m                 \u001b[38;5;124m\"\u001b[39m\u001b[38;5;124mstream\u001b[39m\u001b[38;5;124m\"\u001b[39m: stream,\n\u001b[0;32m    677\u001b[0m                 \u001b[38;5;124m\"\u001b[39m\u001b[38;5;124mtemperature\u001b[39m\u001b[38;5;124m\"\u001b[39m: temperature,\n\u001b[0;32m    678\u001b[0m                 \u001b[38;5;124m\"\u001b[39m\u001b[38;5;124mtool_choice\u001b[39m\u001b[38;5;124m\"\u001b[39m: tool_choice,\n\u001b[0;32m    679\u001b[0m                 \u001b[38;5;124m\"\u001b[39m\u001b[38;5;124mtools\u001b[39m\u001b[38;5;124m\"\u001b[39m: tools,\n\u001b[0;32m    680\u001b[0m                 \u001b[38;5;124m\"\u001b[39m\u001b[38;5;124mtop_logprobs\u001b[39m\u001b[38;5;124m\"\u001b[39m: top_logprobs,\n\u001b[0;32m    681\u001b[0m                 \u001b[38;5;124m\"\u001b[39m\u001b[38;5;124mtop_p\u001b[39m\u001b[38;5;124m\"\u001b[39m: top_p,\n\u001b[0;32m    682\u001b[0m                 \u001b[38;5;124m\"\u001b[39m\u001b[38;5;124muser\u001b[39m\u001b[38;5;124m\"\u001b[39m: user,\n\u001b[0;32m    683\u001b[0m             },\n\u001b[0;32m    684\u001b[0m             completion_create_params\u001b[38;5;241m.\u001b[39mCompletionCreateParams,\n\u001b[0;32m    685\u001b[0m         ),\n\u001b[0;32m    686\u001b[0m         options\u001b[38;5;241m=\u001b[39mmake_request_options(\n\u001b[0;32m    687\u001b[0m             extra_headers\u001b[38;5;241m=\u001b[39mextra_headers, extra_query\u001b[38;5;241m=\u001b[39mextra_query, extra_body\u001b[38;5;241m=\u001b[39mextra_body, timeout\u001b[38;5;241m=\u001b[39mtimeout\n\u001b[0;32m    688\u001b[0m         ),\n\u001b[0;32m    689\u001b[0m         cast_to\u001b[38;5;241m=\u001b[39mChatCompletion,\n\u001b[0;32m    690\u001b[0m         stream\u001b[38;5;241m=\u001b[39mstream \u001b[38;5;129;01mor\u001b[39;00m \u001b[38;5;28;01mFalse\u001b[39;00m,\n\u001b[0;32m    691\u001b[0m         stream_cls\u001b[38;5;241m=\u001b[39mStream[ChatCompletionChunk],\n\u001b[0;32m    692\u001b[0m     )\n",
      "File \u001b[1;32m~\\Anaconda3\\envs\\llm\\Lib\\site-packages\\openai\\_base_client.py:1200\u001b[0m, in \u001b[0;36mSyncAPIClient.post\u001b[1;34m(self, path, cast_to, body, options, files, stream, stream_cls)\u001b[0m\n\u001b[0;32m   1186\u001b[0m \u001b[38;5;28;01mdef\u001b[39;00m \u001b[38;5;21mpost\u001b[39m(\n\u001b[0;32m   1187\u001b[0m     \u001b[38;5;28mself\u001b[39m,\n\u001b[0;32m   1188\u001b[0m     path: \u001b[38;5;28mstr\u001b[39m,\n\u001b[1;32m   (...)\u001b[0m\n\u001b[0;32m   1195\u001b[0m     stream_cls: \u001b[38;5;28mtype\u001b[39m[_StreamT] \u001b[38;5;241m|\u001b[39m \u001b[38;5;28;01mNone\u001b[39;00m \u001b[38;5;241m=\u001b[39m \u001b[38;5;28;01mNone\u001b[39;00m,\n\u001b[0;32m   1196\u001b[0m ) \u001b[38;5;241m-\u001b[39m\u001b[38;5;241m>\u001b[39m ResponseT \u001b[38;5;241m|\u001b[39m _StreamT:\n\u001b[0;32m   1197\u001b[0m     opts \u001b[38;5;241m=\u001b[39m FinalRequestOptions\u001b[38;5;241m.\u001b[39mconstruct(\n\u001b[0;32m   1198\u001b[0m         method\u001b[38;5;241m=\u001b[39m\u001b[38;5;124m\"\u001b[39m\u001b[38;5;124mpost\u001b[39m\u001b[38;5;124m\"\u001b[39m, url\u001b[38;5;241m=\u001b[39mpath, json_data\u001b[38;5;241m=\u001b[39mbody, files\u001b[38;5;241m=\u001b[39mto_httpx_files(files), \u001b[38;5;241m*\u001b[39m\u001b[38;5;241m*\u001b[39moptions\n\u001b[0;32m   1199\u001b[0m     )\n\u001b[1;32m-> 1200\u001b[0m     \u001b[38;5;28;01mreturn\u001b[39;00m cast(ResponseT, \u001b[38;5;28mself\u001b[39m\u001b[38;5;241m.\u001b[39mrequest(cast_to, opts, stream\u001b[38;5;241m=\u001b[39mstream, stream_cls\u001b[38;5;241m=\u001b[39mstream_cls))\n",
      "File \u001b[1;32m~\\Anaconda3\\envs\\llm\\Lib\\site-packages\\openai\\_base_client.py:889\u001b[0m, in \u001b[0;36mSyncAPIClient.request\u001b[1;34m(self, cast_to, options, remaining_retries, stream, stream_cls)\u001b[0m\n\u001b[0;32m    880\u001b[0m \u001b[38;5;28;01mdef\u001b[39;00m \u001b[38;5;21mrequest\u001b[39m(\n\u001b[0;32m    881\u001b[0m     \u001b[38;5;28mself\u001b[39m,\n\u001b[0;32m    882\u001b[0m     cast_to: Type[ResponseT],\n\u001b[1;32m   (...)\u001b[0m\n\u001b[0;32m    887\u001b[0m     stream_cls: \u001b[38;5;28mtype\u001b[39m[_StreamT] \u001b[38;5;241m|\u001b[39m \u001b[38;5;28;01mNone\u001b[39;00m \u001b[38;5;241m=\u001b[39m \u001b[38;5;28;01mNone\u001b[39;00m,\n\u001b[0;32m    888\u001b[0m ) \u001b[38;5;241m-\u001b[39m\u001b[38;5;241m>\u001b[39m ResponseT \u001b[38;5;241m|\u001b[39m _StreamT:\n\u001b[1;32m--> 889\u001b[0m     \u001b[38;5;28;01mreturn\u001b[39;00m \u001b[38;5;28mself\u001b[39m\u001b[38;5;241m.\u001b[39m_request(\n\u001b[0;32m    890\u001b[0m         cast_to\u001b[38;5;241m=\u001b[39mcast_to,\n\u001b[0;32m    891\u001b[0m         options\u001b[38;5;241m=\u001b[39moptions,\n\u001b[0;32m    892\u001b[0m         stream\u001b[38;5;241m=\u001b[39mstream,\n\u001b[0;32m    893\u001b[0m         stream_cls\u001b[38;5;241m=\u001b[39mstream_cls,\n\u001b[0;32m    894\u001b[0m         remaining_retries\u001b[38;5;241m=\u001b[39mremaining_retries,\n\u001b[0;32m    895\u001b[0m     )\n",
      "File \u001b[1;32m~\\Anaconda3\\envs\\llm\\Lib\\site-packages\\openai\\_base_client.py:980\u001b[0m, in \u001b[0;36mSyncAPIClient._request\u001b[1;34m(self, cast_to, options, remaining_retries, stream, stream_cls)\u001b[0m\n\u001b[0;32m    977\u001b[0m         err\u001b[38;5;241m.\u001b[39mresponse\u001b[38;5;241m.\u001b[39mread()\n\u001b[0;32m    979\u001b[0m     log\u001b[38;5;241m.\u001b[39mdebug(\u001b[38;5;124m\"\u001b[39m\u001b[38;5;124mRe-raising status error\u001b[39m\u001b[38;5;124m\"\u001b[39m)\n\u001b[1;32m--> 980\u001b[0m     \u001b[38;5;28;01mraise\u001b[39;00m \u001b[38;5;28mself\u001b[39m\u001b[38;5;241m.\u001b[39m_make_status_error_from_response(err\u001b[38;5;241m.\u001b[39mresponse) \u001b[38;5;28;01mfrom\u001b[39;00m \u001b[38;5;28;01mNone\u001b[39;00m\n\u001b[0;32m    982\u001b[0m \u001b[38;5;28;01mreturn\u001b[39;00m \u001b[38;5;28mself\u001b[39m\u001b[38;5;241m.\u001b[39m_process_response(\n\u001b[0;32m    983\u001b[0m     cast_to\u001b[38;5;241m=\u001b[39mcast_to,\n\u001b[0;32m    984\u001b[0m     options\u001b[38;5;241m=\u001b[39moptions,\n\u001b[1;32m   (...)\u001b[0m\n\u001b[0;32m    987\u001b[0m     stream_cls\u001b[38;5;241m=\u001b[39mstream_cls,\n\u001b[0;32m    988\u001b[0m )\n",
      "\u001b[1;31mNotFoundError\u001b[0m: Error code: 404 - {'error': {'message': 'Unrecognized request argument supplied: tools', 'type': 'invalid_request_error', 'param': None, 'code': None}}"
     ]
    }
   ],
   "source": [
    "llm_with_tools.invoke(\"How many letters in the word eudca\")"
   ]
  },
  {
   "cell_type": "code",
   "execution_count": null,
   "id": "1ad8ca0b-235a-41d3-8ff0-2acd930e5d26",
   "metadata": {},
   "outputs": [],
   "source": []
  }
 ],
 "metadata": {
  "kernelspec": {
   "display_name": "Python 3 (ipykernel)",
   "language": "python",
   "name": "python3"
  },
  "language_info": {
   "codemirror_mode": {
    "name": "ipython",
    "version": 3
   },
   "file_extension": ".py",
   "mimetype": "text/x-python",
   "name": "python",
   "nbconvert_exporter": "python",
   "pygments_lexer": "ipython3",
   "version": "3.11.7"
  }
 },
 "nbformat": 4,
 "nbformat_minor": 5
}
