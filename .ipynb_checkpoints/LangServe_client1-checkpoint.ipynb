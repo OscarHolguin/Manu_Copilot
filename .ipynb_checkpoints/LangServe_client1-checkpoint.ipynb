{
 "cells": [
  {
   "cell_type": "code",
   "execution_count": 1,
   "id": "4c10475c-dce5-40dd-a027-37cf3b7208e9",
   "metadata": {},
   "outputs": [
    {
     "name": "stdout",
     "output_type": "stream",
     "text": [
      "Requirement already satisfied: langserve in c:\\users\\o_hol\\.conda\\envs\\corporate\\lib\\site-packages (0.0.41)\n",
      "Requirement already satisfied: fastapi in c:\\users\\o_hol\\.conda\\envs\\corporate\\lib\\site-packages (0.109.2)\n",
      "Requirement already satisfied: langchain in c:\\users\\o_hol\\.conda\\envs\\corporate\\lib\\site-packages (0.1.1)\n",
      "Requirement already satisfied: langsmith in c:\\users\\o_hol\\.conda\\envs\\corporate\\lib\\site-packages (0.0.79)\n",
      "Requirement already satisfied: httpx>=0.23.0 in c:\\users\\o_hol\\.conda\\envs\\corporate\\lib\\site-packages (from langserve) (0.26.0)\n",
      "Requirement already satisfied: orjson>=2 in c:\\users\\o_hol\\.conda\\envs\\corporate\\lib\\site-packages (from langserve) (3.9.13)\n",
      "Requirement already satisfied: pydantic>=1 in c:\\users\\o_hol\\.conda\\envs\\corporate\\lib\\site-packages (from langserve) (2.5.3)\n",
      "Requirement already satisfied: starlette<0.37.0,>=0.36.3 in c:\\users\\o_hol\\.conda\\envs\\corporate\\lib\\site-packages (from fastapi) (0.36.3)\n",
      "Requirement already satisfied: typing-extensions>=4.8.0 in c:\\users\\o_hol\\.conda\\envs\\corporate\\lib\\site-packages (from fastapi) (4.9.0)\n",
      "Requirement already satisfied: PyYAML>=5.3 in c:\\users\\o_hol\\.conda\\envs\\corporate\\lib\\site-packages (from langchain) (6.0.1)\n",
      "Requirement already satisfied: SQLAlchemy<3,>=1.4 in c:\\users\\o_hol\\.conda\\envs\\corporate\\lib\\site-packages (from langchain) (2.0.25)\n",
      "Requirement already satisfied: aiohttp<4.0.0,>=3.8.3 in c:\\users\\o_hol\\.conda\\envs\\corporate\\lib\\site-packages (from langchain) (3.9.1)\n",
      "Requirement already satisfied: dataclasses-json<0.7,>=0.5.7 in c:\\users\\o_hol\\.conda\\envs\\corporate\\lib\\site-packages (from langchain) (0.6.3)\n",
      "Requirement already satisfied: jsonpatch<2.0,>=1.33 in c:\\users\\o_hol\\.conda\\envs\\corporate\\lib\\site-packages (from langchain) (1.33)\n",
      "Requirement already satisfied: langchain-community<0.1,>=0.0.13 in c:\\users\\o_hol\\.conda\\envs\\corporate\\lib\\site-packages (from langchain) (0.0.13)\n",
      "Requirement already satisfied: langchain-core<0.2,>=0.1.9 in c:\\users\\o_hol\\.conda\\envs\\corporate\\lib\\site-packages (from langchain) (0.1.9)\n",
      "Requirement already satisfied: numpy<2,>=1 in c:\\users\\o_hol\\.conda\\envs\\corporate\\lib\\site-packages (from langchain) (1.26.3)\n",
      "Requirement already satisfied: requests<3,>=2 in c:\\users\\o_hol\\.conda\\envs\\corporate\\lib\\site-packages (from langchain) (2.31.0)\n",
      "Requirement already satisfied: tenacity<9.0.0,>=8.1.0 in c:\\users\\o_hol\\.conda\\envs\\corporate\\lib\\site-packages (from langchain) (8.2.3)\n",
      "Requirement already satisfied: attrs>=17.3.0 in c:\\users\\o_hol\\.conda\\envs\\corporate\\lib\\site-packages (from aiohttp<4.0.0,>=3.8.3->langchain) (23.2.0)\n",
      "Requirement already satisfied: multidict<7.0,>=4.5 in c:\\users\\o_hol\\.conda\\envs\\corporate\\lib\\site-packages (from aiohttp<4.0.0,>=3.8.3->langchain) (6.0.4)\n",
      "Requirement already satisfied: yarl<2.0,>=1.0 in c:\\users\\o_hol\\.conda\\envs\\corporate\\lib\\site-packages (from aiohttp<4.0.0,>=3.8.3->langchain) (1.9.4)\n",
      "Requirement already satisfied: frozenlist>=1.1.1 in c:\\users\\o_hol\\.conda\\envs\\corporate\\lib\\site-packages (from aiohttp<4.0.0,>=3.8.3->langchain) (1.4.1)\n",
      "Requirement already satisfied: aiosignal>=1.1.2 in c:\\users\\o_hol\\.conda\\envs\\corporate\\lib\\site-packages (from aiohttp<4.0.0,>=3.8.3->langchain) (1.3.1)\n",
      "Requirement already satisfied: marshmallow<4.0.0,>=3.18.0 in c:\\users\\o_hol\\.conda\\envs\\corporate\\lib\\site-packages (from dataclasses-json<0.7,>=0.5.7->langchain) (3.20.2)\n",
      "Requirement already satisfied: typing-inspect<1,>=0.4.0 in c:\\users\\o_hol\\.conda\\envs\\corporate\\lib\\site-packages (from dataclasses-json<0.7,>=0.5.7->langchain) (0.9.0)\n",
      "Requirement already satisfied: anyio in c:\\users\\o_hol\\.conda\\envs\\corporate\\lib\\site-packages (from httpx>=0.23.0->langserve) (4.2.0)\n",
      "Requirement already satisfied: certifi in c:\\users\\o_hol\\.conda\\envs\\corporate\\lib\\site-packages (from httpx>=0.23.0->langserve) (2023.11.17)\n",
      "Requirement already satisfied: httpcore==1.* in c:\\users\\o_hol\\.conda\\envs\\corporate\\lib\\site-packages (from httpx>=0.23.0->langserve) (1.0.2)\n",
      "Requirement already satisfied: idna in c:\\users\\o_hol\\.conda\\envs\\corporate\\lib\\site-packages (from httpx>=0.23.0->langserve) (3.4)\n",
      "Requirement already satisfied: sniffio in c:\\users\\o_hol\\.conda\\envs\\corporate\\lib\\site-packages (from httpx>=0.23.0->langserve) (1.3.0)\n",
      "Requirement already satisfied: h11<0.15,>=0.13 in c:\\users\\o_hol\\.conda\\envs\\corporate\\lib\\site-packages (from httpcore==1.*->httpx>=0.23.0->langserve) (0.14.0)\n",
      "Requirement already satisfied: jsonpointer>=1.9 in c:\\users\\o_hol\\.conda\\envs\\corporate\\lib\\site-packages (from jsonpatch<2.0,>=1.33->langchain) (2.4)\n",
      "Requirement already satisfied: packaging<24.0,>=23.2 in c:\\users\\o_hol\\.conda\\envs\\corporate\\lib\\site-packages (from langchain-core<0.2,>=0.1.9->langchain) (23.2)\n",
      "Requirement already satisfied: annotated-types>=0.4.0 in c:\\users\\o_hol\\.conda\\envs\\corporate\\lib\\site-packages (from pydantic>=1->langserve) (0.6.0)\n",
      "Requirement already satisfied: pydantic-core==2.14.6 in c:\\users\\o_hol\\.conda\\envs\\corporate\\lib\\site-packages (from pydantic>=1->langserve) (2.14.6)\n",
      "Requirement already satisfied: charset-normalizer<4,>=2 in c:\\users\\o_hol\\.conda\\envs\\corporate\\lib\\site-packages (from requests<3,>=2->langchain) (2.0.4)\n",
      "Requirement already satisfied: urllib3<3,>=1.21.1 in c:\\users\\o_hol\\.conda\\envs\\corporate\\lib\\site-packages (from requests<3,>=2->langchain) (1.26.18)\n",
      "Requirement already satisfied: greenlet!=0.4.17 in c:\\users\\o_hol\\.conda\\envs\\corporate\\lib\\site-packages (from SQLAlchemy<3,>=1.4->langchain) (3.0.3)\n",
      "Requirement already satisfied: mypy-extensions>=0.3.0 in c:\\users\\o_hol\\.conda\\envs\\corporate\\lib\\site-packages (from typing-inspect<1,>=0.4.0->dataclasses-json<0.7,>=0.5.7->langchain) (1.0.0)\n"
     ]
    }
   ],
   "source": [
    "!pip install langserve fastapi langchain langsmith"
   ]
  },
  {
   "cell_type": "code",
   "execution_count": 2,
   "id": "088c7401-78ce-4be1-9a38-b0c527151491",
   "metadata": {},
   "outputs": [],
   "source": [
    "#LANGSERVE EXAMPLE 1"
   ]
  },
  {
   "cell_type": "code",
   "execution_count": 3,
   "id": "6af86b76-0ad3-4bac-bc28-a1e50e58e774",
   "metadata": {},
   "outputs": [
    {
     "ename": "ModuleNotFoundError",
     "evalue": "No module named 'langchain_core.runnables.schema'",
     "output_type": "error",
     "traceback": [
      "\u001b[1;31m---------------------------------------------------------------------------\u001b[0m",
      "\u001b[1;31mModuleNotFoundError\u001b[0m                       Traceback (most recent call last)",
      "Cell \u001b[1;32mIn[3], line 1\u001b[0m\n\u001b[1;32m----> 1\u001b[0m \u001b[38;5;28;01mfrom\u001b[39;00m \u001b[38;5;21;01mlangserve\u001b[39;00m \u001b[38;5;28;01mimport\u001b[39;00m RemoteRunnable\n",
      "File \u001b[1;32m~\\.conda\\envs\\corporate\\Lib\\site-packages\\langserve\\__init__.py:8\u001b[0m\n\u001b[0;32m      1\u001b[0m \u001b[38;5;124;03m\"\"\"Main entrypoint into package.\u001b[39;00m\n\u001b[0;32m      2\u001b[0m \n\u001b[0;32m      3\u001b[0m \u001b[38;5;124;03mThis is the ONLY public interface into the package. All other modules are\u001b[39;00m\n\u001b[0;32m      4\u001b[0m \u001b[38;5;124;03mto be considered private and subject to change without notice.\u001b[39;00m\n\u001b[0;32m      5\u001b[0m \u001b[38;5;124;03m\"\"\"\u001b[39;00m\n\u001b[0;32m      7\u001b[0m \u001b[38;5;28;01mfrom\u001b[39;00m \u001b[38;5;21;01mlangserve\u001b[39;00m\u001b[38;5;21;01m.\u001b[39;00m\u001b[38;5;21;01mapi_handler\u001b[39;00m \u001b[38;5;28;01mimport\u001b[39;00m APIHandler\n\u001b[1;32m----> 8\u001b[0m \u001b[38;5;28;01mfrom\u001b[39;00m \u001b[38;5;21;01mlangserve\u001b[39;00m\u001b[38;5;21;01m.\u001b[39;00m\u001b[38;5;21;01mclient\u001b[39;00m \u001b[38;5;28;01mimport\u001b[39;00m RemoteRunnable\n\u001b[0;32m      9\u001b[0m \u001b[38;5;28;01mfrom\u001b[39;00m \u001b[38;5;21;01mlangserve\u001b[39;00m\u001b[38;5;21;01m.\u001b[39;00m\u001b[38;5;21;01mschema\u001b[39;00m \u001b[38;5;28;01mimport\u001b[39;00m CustomUserType\n\u001b[0;32m     10\u001b[0m \u001b[38;5;28;01mfrom\u001b[39;00m \u001b[38;5;21;01mlangserve\u001b[39;00m\u001b[38;5;21;01m.\u001b[39;00m\u001b[38;5;21;01mserver\u001b[39;00m \u001b[38;5;28;01mimport\u001b[39;00m add_routes\n",
      "File \u001b[1;32m~\\.conda\\envs\\corporate\\Lib\\site-packages\\langserve\\client.py:39\u001b[0m\n\u001b[0;32m     32\u001b[0m \u001b[38;5;28;01mfrom\u001b[39;00m \u001b[38;5;21;01mlangchain\u001b[39;00m\u001b[38;5;21;01m.\u001b[39;00m\u001b[38;5;21;01mschema\u001b[39;00m\u001b[38;5;21;01m.\u001b[39;00m\u001b[38;5;21;01mrunnable\u001b[39;00m\u001b[38;5;21;01m.\u001b[39;00m\u001b[38;5;21;01mconfig\u001b[39;00m \u001b[38;5;28;01mimport\u001b[39;00m (\n\u001b[0;32m     33\u001b[0m     RunnableConfig,\n\u001b[0;32m     34\u001b[0m     ensure_config,\n\u001b[0;32m     35\u001b[0m     get_async_callback_manager_for_config,\n\u001b[0;32m     36\u001b[0m     get_callback_manager_for_config,\n\u001b[0;32m     37\u001b[0m )\n\u001b[0;32m     38\u001b[0m \u001b[38;5;28;01mfrom\u001b[39;00m \u001b[38;5;21;01mlangchain\u001b[39;00m\u001b[38;5;21;01m.\u001b[39;00m\u001b[38;5;21;01mschema\u001b[39;00m\u001b[38;5;21;01m.\u001b[39;00m\u001b[38;5;21;01mrunnable\u001b[39;00m\u001b[38;5;21;01m.\u001b[39;00m\u001b[38;5;21;01mutils\u001b[39;00m \u001b[38;5;28;01mimport\u001b[39;00m AddableDict, Input, Output\n\u001b[1;32m---> 39\u001b[0m \u001b[38;5;28;01mfrom\u001b[39;00m \u001b[38;5;21;01mlangchain_core\u001b[39;00m\u001b[38;5;21;01m.\u001b[39;00m\u001b[38;5;21;01mrunnables\u001b[39;00m\u001b[38;5;21;01m.\u001b[39;00m\u001b[38;5;21;01mschema\u001b[39;00m \u001b[38;5;28;01mimport\u001b[39;00m StreamEvent\n\u001b[0;32m     40\u001b[0m \u001b[38;5;28;01mfrom\u001b[39;00m \u001b[38;5;21;01mtyping_extensions\u001b[39;00m \u001b[38;5;28;01mimport\u001b[39;00m Literal\n\u001b[0;32m     42\u001b[0m \u001b[38;5;28;01mfrom\u001b[39;00m \u001b[38;5;21;01mlangserve\u001b[39;00m\u001b[38;5;21;01m.\u001b[39;00m\u001b[38;5;21;01mcallbacks\u001b[39;00m \u001b[38;5;28;01mimport\u001b[39;00m CallbackEventDict, ahandle_callbacks, handle_callbacks\n",
      "\u001b[1;31mModuleNotFoundError\u001b[0m: No module named 'langchain_core.runnables.schema'"
     ]
    }
   ],
   "source": [
    "from langserve import RemoteRunnable"
   ]
  },
  {
   "cell_type": "code",
   "execution_count": null,
   "id": "85ee43ff-6fd5-465a-84e1-fa51fed2c722",
   "metadata": {},
   "outputs": [],
   "source": []
  }
 ],
 "metadata": {
  "kernelspec": {
   "display_name": "Python 3 (ipykernel)",
   "language": "python",
   "name": "python3"
  },
  "language_info": {
   "codemirror_mode": {
    "name": "ipython",
    "version": 3
   },
   "file_extension": ".py",
   "mimetype": "text/x-python",
   "name": "python",
   "nbconvert_exporter": "python",
   "pygments_lexer": "ipython3",
   "version": "3.11.0"
  }
 },
 "nbformat": 4,
 "nbformat_minor": 5
}
