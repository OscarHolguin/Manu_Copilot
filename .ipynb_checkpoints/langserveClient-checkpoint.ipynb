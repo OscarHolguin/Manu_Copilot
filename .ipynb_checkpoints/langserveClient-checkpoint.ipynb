{
 "cells": [
  {
   "cell_type": "code",
   "execution_count": 2,
   "id": "81555963-514b-43cf-88b1-3da24f1ecd0e",
   "metadata": {},
   "outputs": [],
   "source": [
    "#COpilot langserve client\n",
    "from langchain.agents import AgentExecutor, tool\n",
    "from langchain.agents.format_scratchpad import format_to_openai_functions\n",
    "from langchain.tools import StructuredTool\n"
   ]
  },
  {
   "cell_type": "code",
   "execution_count": 3,
   "id": "0635936e-60f5-448e-8407-0eebf9bc6243",
   "metadata": {},
   "outputs": [],
   "source": [
    "from langserve import RemoteRunnable\n",
    "host = \"http://localhost:8000/\"\n",
    "\n",
    "copilotv=RemoteRunnable(host+\"cotalk/\")\n",
    "copilotg=RemoteRunnable(host+\"kg/\")\n",
    "copilotrag = RemoteRunnable(host+\"rag/\")\n",
    "copilotcombines = RemoteRunnable(host+\"crag/\")"
   ]
  },
  {
   "cell_type": "code",
   "execution_count": 53,
   "id": "b2683877-14a8-4251-90ad-0fdec57db946",
   "metadata": {},
   "outputs": [],
   "source": [
    "import requests\n",
    "from cachetools import cached, TTLCache\n",
    "\n",
    "# Create a cache with a maximum of 100 entries and a time-to-live (TTL) of 180 seconds\n",
    "cache = TTLCache(maxsize=100, ttl=180)\n",
    "\n",
    "@cached(cache)\n",
    "def rag_server_response(query,host=\"http://localhost:8000/rag\",key=\"query\"):\n",
    "    import requests \n",
    "    import json\n",
    "    resp = requests.get(host+\"?\"+key+\"=\"+query)\n",
    "    if resp.status_code==200:\n",
    "        return json.loads(resp.text)\n",
    "\n",
    "@cached(cache)\n",
    "def rag_server_response_stream(query, host=\"http://localhost:8000/rag\", key=\"query\"):\n",
    "    try:\n",
    "        resp = requests.get(host, params={key: query}, stream=True)\n",
    "        resp.raise_for_status()  # Raise an exception if the response status code is not 200\n",
    "        for chunk in resp.iter_content(chunk_size=1024):  # Adjust chunk size as needed\n",
    "            yield chunk\n",
    "    except requests.RequestException as e:\n",
    "        print(f\"Error fetching data: {e}\")\n",
    "\n",
    "\n",
    "#Simple function to\n",
    "def vector_answers(query:str,qkey=\"question\",chain=copilotv)->list:\n",
    "    \"\"\"Gets answers using vector RAG.\n",
    "    Args:\n",
    "        query: A string containing the question to ask.\n",
    "        qkey: A string indicating the key for the question in the input dictionary. Default is \"question\".\n",
    "        chain: A RemoteRunnable object that represents the vector RAG model.\n",
    "    Returns:\n",
    "        A list of answers from the vector RAG model.\n",
    "    \"\"\"\n",
    "    \n",
    "    return chain({\"question\":query}.get(\"answer\"))\n",
    "    \n",
    "\n",
    "def RAG_asnwers_tool():\n",
    "    structured_tool = StructuredTool.from_function(\n",
    "        name=\"Get LLM response using vector or graph RAG tool\",\n",
    "        func=copilot_response_server,\n",
    "        description=\"Copilot use this tool if you want to get a RAG response using knowledge graph or vector embeddings from business documents by API provisioning LangServe\")\n",
    "\n",
    "    return structured_tool\n",
    "\n",
    "# from langchain.agents import tool\n",
    "\n",
    "\n",
    "# @tool\n",
    "# def get_word_length(word: str) -> int:\n",
    "#     \"\"\"Returns the length of a word.\"\"\"\n",
    "#     return len(word)\n",
    "\n",
    "\n",
    "# @tool\n",
    "# def graph_response(query):\n",
    "#     pass\n",
    "\n",
    "async def stream_obj_response(copilotobj,query,qkey=\"question\"):\n",
    "    \"Streaming response using async stream\"\n",
    "    final_response = []\n",
    "    async for msg in copilotobj.astream({qkey:query}):\n",
    "        print(msg.get(\"answer\"), end=\"\", flush=True)\n",
    "        final_response.append(msg.get(\"answer\"), end=\"\", flush=True)\n",
    "    return final_response\n",
    "            \n",
    "@cached(cache)\n",
    "def copilot_response_server(query:str, qkey=\"question\",fullrag=False,copilotobj=None,stream=False,**kwargs):\n",
    "    \"Gets answers using vector RAG from vectors, graphs or RAG response class\"\n",
    "    if fullrag:\n",
    "        host = kwargs.get(\"host\",\"http://localhost:8000/rag\")\n",
    "        if stream:\n",
    "            r = rag_server_response_stream(query,host=host)\n",
    "        else:\n",
    "            r = rag_server_response(query,host=host)\n",
    "    else:\n",
    "        #qkey for vector question and for graph \n",
    "        if stream: #streaming response\n",
    "            r = stream_obj_response(copilotobj,query,qkey)\n",
    "        else:\n",
    "            r=copilotobj.invoke({qkey:query})\n",
    "    return r\n"
   ]
  },
  {
   "cell_type": "code",
   "execution_count": null,
   "id": "a675971b-2058-4c66-8bb8-ecd70be7e653",
   "metadata": {},
   "outputs": [],
   "source": []
  },
  {
   "cell_type": "markdown",
   "id": "48069926-82de-4605-8b82-00304d887ca5",
   "metadata": {},
   "source": [
    "## Testing Vector Retriever in Langserve"
   ]
  },
  {
   "cell_type": "code",
   "execution_count": 5,
   "id": "0b1b798f-7961-45a9-917d-9d4af8235eb0",
   "metadata": {},
   "outputs": [],
   "source": [
    "# import asyncio\n",
    "# asyncio.run(stream_obj_response(copilotobj=copilotv,query=\"how many tickets are related to benchmill\"))"
   ]
  },
  {
   "cell_type": "code",
   "execution_count": 6,
   "id": "3aa7b0be-1ac9-4e79-8971-58674c24ad27",
   "metadata": {
    "scrolled": true
   },
   "outputs": [
    {
     "data": {
      "text/plain": [
       "{'answer': 'Based on the provided incident tickets, there is one ticket (INC0007654) that is related to the Benchmill.'}"
      ]
     },
     "execution_count": 6,
     "metadata": {},
     "output_type": "execute_result"
    }
   ],
   "source": [
    "copilot_response_server(\"how many tickets are related to benchmill\",copilotobj=copilotv)"
   ]
  },
  {
   "cell_type": "code",
   "execution_count": 7,
   "id": "7c3f6f44-f737-4008-bd86-b925a2606b25",
   "metadata": {},
   "outputs": [
    {
     "data": {
      "text/plain": [
       "{'answer': 'The other pieces of information provided are incident tickets that describe specific issues or incidents that occurred in different production lines. These incidents include variations in the quality and accuracy of produced machined parts, unexpected shutdown of a machine impacting the production schedule, excessive vibrations or unusual noise leading to poor product quality, and a sudden and unplanned production stoppage. The parameter values associated with each incident provide additional details about the operating conditions and maintenance history of the machines involved.'}"
      ]
     },
     "execution_count": 7,
     "metadata": {},
     "output_type": "execute_result"
    }
   ],
   "source": [
    "copilot_response_server(\"what are the others about then\",copilotobj=copilotv)"
   ]
  },
  {
   "cell_type": "code",
   "execution_count": 8,
   "id": "6f2a9431-70d7-438b-9043-cffa12e0befb",
   "metadata": {},
   "outputs": [
    {
     "data": {
      "text/plain": [
       "{'answer': 'For Incident Ticket ID: INC0007654, the likely root cause of the unexpected shutdown of Benchmill on Production Line 2 is inadequate cooling leading to motor overheating. This is indicated by the breach in standard values for the airflow rate (70 CFM instead of >50 CFM), ambient temperature (35 degrees Celsius instead of 20-25 degrees Celsius), and motor surface temperature (80 degrees Celsius instead of <60 degrees Celsius).\\n\\nPlan of Action:\\n1) Check and clean the cooling vents to ensure proper airflow.\\n2) Implement measures to reduce the ambient temperature around the motor, such as improving ventilation or installing cooling systems.\\n3) Investigate and address any issues causing the motor surface temperature to exceed the standard value, such as faulty cooling mechanisms or excessive workload on the motor.\\n\\nFor Incident Ticket ID: INC0003557, the likely root cause of the sudden production stoppage on Assembly Line 3 is insufficient power supply causing fluctuations. This is indicated by the breach in standard values for voltage stability (5% instead of +-5%) and voltage fluctuation (1% instead of <2% variation).\\n\\nPlan of Action:\\n1) Conduct a thorough assessment of the power supply system to identify any issues causing fluctuations.\\n2) Implement measures to stabilize the voltage,'}"
      ]
     },
     "execution_count": 8,
     "metadata": {},
     "output_type": "execute_result"
    }
   ],
   "source": [
    "copilot_response_server(\"can you perform an individual root cause analysis and give me a plan of action for each of them\",copilotobj=copilotv)"
   ]
  },
  {
   "cell_type": "markdown",
   "id": "02aabff9-33df-461b-980a-62707cb3f3fc",
   "metadata": {},
   "source": [
    "#### Vector Retriever Stream response"
   ]
  },
  {
   "cell_type": "code",
   "execution_count": 38,
   "id": "b4f91fb1-ade2-4912-83d9-f2125366ec1d",
   "metadata": {
    "scrolled": true
   },
   "outputs": [
    {
     "name": "stdout",
     "output_type": "stream",
     "text": [
      "Based on the provided information, the individual root cause analysis for Incident Ticket ID INC0007654 is as follows:\n",
      "\n",
      "Root Cause: Unexpected shutdown of Benchmill\n",
      "Possible Causes:\n",
      "1. Motor surface temperature: The motor surface temperature of 80 degrees Celsius may have exceeded the safe operating limit, leading to the shutdown.\n",
      "2. Load on motor: The motor was operating at 70% load, which may have caused overheating and triggered the shutdown.\n",
      "3. Voltage stability: A 5% voltage stability may have caused fluctuations in the power supply, leading to the shutdown.\n",
      "4. Power wiring resistance: A power wiring resistance of 0.01 ohms may have caused excessive heat generation and triggered the shutdown.\n",
      "5. Dust accumulation: A dust accumulation of 0.5 mm thickness may have affected the motor's performance and caused the shutdown.\n",
      "\n",
      "Recommended Actions:\n",
      "1. Monitor and control motor surface temperature to ensure it stays within the safe operating range.\n",
      "2. Evaluate the load on the motor and consider reducing it if necessary to prevent overheating.\n",
      "3. Improve voltage stability to minimize power fluctuations and prevent unexpected shutdowns.\n",
      "4. Check and address any issues with power wiring resistance to prevent excessive heat generation.\n",
      "5. Implement regular cleaning and maintenance procedures to prevent dust accumulation and its"
     ]
    }
   ],
   "source": [
    "#as stream response\n",
    "async for msg in copilotv.astream({\"question\":\"can you perform an individual root cause analysis for ticket 1\"}):\n",
    "    print(msg.get(\"answer\"), end=\"\", flush=True)"
   ]
  },
  {
   "cell_type": "markdown",
   "id": "aa097094-5244-4366-9a8a-9e3d81b2d89d",
   "metadata": {},
   "source": [
    "## Testing GraphQA Retriever in Langserver"
   ]
  },
  {
   "cell_type": "code",
   "execution_count": 15,
   "id": "7e395384-047a-4a8f-8bdb-061336ab4d6f",
   "metadata": {},
   "outputs": [
    {
     "data": {
      "text/plain": [
       "{'result': 'The study concluded that only about 13% of methane emissions are covered by methane mitigation policies. Additionally, the effectiveness of these policies is far from clear.'}"
      ]
     },
     "execution_count": 15,
     "metadata": {},
     "output_type": "execute_result"
    }
   ],
   "source": [
    "copilot_response_server(\"what did the study concluded\",copilotobj=copilotg)"
   ]
  },
  {
   "cell_type": "code",
   "execution_count": 14,
   "id": "bf5bfc30-66f1-4ef6-8e72-f12f294b5f4f",
   "metadata": {},
   "outputs": [
    {
     "data": {
      "text/plain": [
       "{'result': \"I know several pieces of information about different topics. Here are some of them:\\n\\n1. There are theories of planetary formation that have been challenged.\\n2. There is a lowest-mass star hosting something, although it is not specified what it is hosting.\\n3. Five employees have published a tropical cyclone report.\\n4. In August, there was a new record high temperature reached.\\n5. The world's oceans have also reached a new record high temperature.\\n6. Hurricane Ian was upgraded from Category 4 to Category 5.\\n7. Hurricane Ian caused $112.9 billion worth of damage.\\n8. Hurricane Ian struck Florida.\\n9. The oxygen partial pressure is above 18%.\\n10. Emissions of chlorofluorocarbons have risen.\\n\\nPlease let me know if you would like more information on any specific topic.\"}"
      ]
     },
     "execution_count": 14,
     "metadata": {},
     "output_type": "execute_result"
    }
   ],
   "source": [
    "#RUN examples\n",
    "copilot_response_server(\"tell me everything you know about\",copilotobj=copilotg)"
   ]
  },
  {
   "cell_type": "code",
   "execution_count": 16,
   "id": "9de40fec-efb2-4d6e-bda1-c4e17d75bc66",
   "metadata": {},
   "outputs": [
    {
     "data": {
      "text/plain": [
       "{'result': \"The Earth's heaviest animal is the blue whale. It can weigh up to 200 tons, which is equivalent to about 400,000 pounds. These magnificent creatures can grow to be over 100 feet long and have a heart that weighs as much as a car. Despite their massive size, blue whales primarily feed on tiny shrimp-like animals called krill.\"}"
      ]
     },
     "execution_count": 16,
     "metadata": {},
     "output_type": "execute_result"
    }
   ],
   "source": [
    "copilot_response_server(\"tell me about the earths heaviest animal\",copilotobj=copilotg)"
   ]
  },
  {
   "cell_type": "code",
   "execution_count": null,
   "id": "c1132ee4-e560-47f5-a582-ad0759d4c355",
   "metadata": {},
   "outputs": [],
   "source": []
  },
  {
   "cell_type": "markdown",
   "id": "270fd39a-7db9-44bb-9363-a25652b22e1d",
   "metadata": {},
   "source": [
    "## RAG responses"
   ]
  },
  {
   "cell_type": "code",
   "execution_count": 91,
   "id": "85e9d641-f50d-4d3e-bd84-ced5b205a4e6",
   "metadata": {},
   "outputs": [],
   "source": [
    "#RESPONSES from messages without memory"
   ]
  },
  {
   "cell_type": "code",
   "execution_count": 18,
   "id": "180bea8d-2680-4cd6-839c-e7f79231f1aa",
   "metadata": {},
   "outputs": [],
   "source": [
    "import requests\n",
    "import json"
   ]
  },
  {
   "cell_type": "code",
   "execution_count": 58,
   "id": "e1f59b74-c4f5-418f-b6ad-dea856c4d3d2",
   "metadata": {},
   "outputs": [
    {
     "data": {
      "text/plain": [
       "{'result': 'To perform FMEA on the data from the first incident ticket, we need to analyze the potential failure modes, their effects, and the likelihood of their occurrence. \\n\\n1. Failure Mode: Unexpected shutdown of Benchmill\\n   - Effect: Disruption of production schedule\\n   - Occurrence: Unknown\\n\\n2. Failure Mode: Airflow Rate below normal\\n   - Effect: Decreased cooling efficiency\\n   - Occurrence: Unlikely\\n\\n3. Failure Mode: High Ambient Temperature\\n   - Effect: Increased motor temperature\\n   - Occurrence: Unlikely\\n\\n4. Failure Mode: High Motor Surface Temperature\\n   - Effect: Potential overheating and damage to the motor\\n   - Occurrence: Unlikely\\n\\n5. Failure Mode: High Load on Motor\\n   - Effect: Increased stress on the motor\\n   - Occurrence: Unlikely\\n\\n6. Failure Mode: Low User Workload\\n   - Effect: Inadequate utilization of the motor\\n   - Occurrence: Unlikely\\n\\n7. Failure Mode: Voltage Stability Issues\\n   - Effect: Fluctuations in motor performance\\n   - Occurrence: Unlikely\\n\\n8. Failure Mode: High Power Wiring Resistance\\n   - Effect: Increased power loss and potential overheating\\n   - Occ'}"
      ]
     },
     "execution_count": 58,
     "metadata": {},
     "output_type": "execute_result"
    }
   ],
   "source": [
    "#RESPONSE\n",
    "copilot_response_server(\"Perform FMEA on first ticket dats\",fullrag=True)"
   ]
  },
  {
   "cell_type": "code",
   "execution_count": 20,
   "id": "5022bbe6-a6fa-419d-bc68-3e5932d8403b",
   "metadata": {},
   "outputs": [
    {
     "name": "stdout",
     "output_type": "stream",
     "text": [
      "<Response [200]>\n"
     ]
    },
    {
     "data": {
      "text/plain": [
       "{'result': 'Root Cause Analysis (RCA) for Incident Ticket ID: INC0007654:\\n\\nIssue Description: Production Line 2 experienced a sudden disruption during the morning shift due to unexpected shutdown of Benchmill impacting the production schedule.\\n\\nParameter Values:\\n- Airflow Rate: 70 CFM\\n- Ambient Temperature: 35 degree celsius\\n- Motor surface temperature: 80 degree celsius\\n- Motor rated power: 1.5 HP\\n- Load on motor: 70%\\n- User workload: 60%\\n- Voltage stability: 5%\\n- Power wiring resistance: 0.01 ohms\\n- Voltage fluctuation: 1%\\n- Maintenance logs show monthly frequency\\n- Dust accumulation: 0.5 mm thickness\\n- Lubrication frequency: 50 hours\\n\\nBased on the provided data, the potential root causes for the unexpected shutdown of Benchmill on Production Line 2 can be identified as follows:\\n\\n1. Overheating of the motor: The motor surface temperature of 80 degree celsius indicates that the motor might have been operating at a higher temperature than normal. This could be due to insufficient cooling or inadequate ventilation in the production area.\\n\\n2. High load on the motor: The load on the motor is at 70%, which suggests'}"
      ]
     },
     "execution_count": 20,
     "metadata": {},
     "output_type": "execute_result"
    }
   ],
   "source": [
    "copilot_response_server(\"Perform RCA on first ticket data\",fullrag=True)"
   ]
  },
  {
   "cell_type": "code",
   "execution_count": 33,
   "id": "7302bae9-0419-40e6-92e6-52d1b04bc2b0",
   "metadata": {},
   "outputs": [
    {
     "name": "stdout",
     "output_type": "stream",
     "text": [
      "As we can see there is no information from knowledge graph base\n"
     ]
    }
   ],
   "source": [
    "copilot_response_server(\"What did all the studies concluded\",fullrag=True,method=\"graph\")\n",
    "print(\"As we can see there is no information from knowledge graph base\")"
   ]
  },
  {
   "cell_type": "markdown",
   "id": "7f996e08-c4fa-420f-bb9a-0ff5a1f843a6",
   "metadata": {},
   "source": [
    "This RESPONSE has no memory"
   ]
  },
  {
   "cell_type": "markdown",
   "id": "9592f94c-3ccb-4a3c-9c92-e1522abf556b",
   "metadata": {},
   "source": [
    "## Agent executor tools LLMS (langchain vector and graph)"
   ]
  },
  {
   "cell_type": "code",
   "execution_count": 47,
   "id": "af0ece74-9945-420c-a5df-0323241806cf",
   "metadata": {},
   "outputs": [
    {
     "name": "stdout",
     "output_type": "stream",
     "text": [
      "VECTOR chain RAG from agent executor\n"
     ]
    },
    {
     "data": {
      "text/plain": [
       "'Based on the provided incident ticket (INC0007654) and the reference values, the following RCA can be performed:\\n\\n1) Cooling mechanisms: The airflow rate through the cooling vents is 70 CFM, which exceeds the standard value of 50 CFM. This indicates that the cooling is adequate.\\n\\n2) Ambient temperature: The ambient temperature around the motor is 35 degrees Celsius, which exceeds the standard value of 20-25 degrees Celsius. This suggests that the motor is operating in a higher temperature environment.\\n\\n3) Motor surface temperature: The motor surface temperature during operation is 80 degrees Celsius, which exceeds the standard value of 60 degrees Celsius. This indicates that the motor is overheating.\\n\\nBased on the above analysis, the likely root cause of the unexpected shutdown of the Benchmill is inadequate cooling leading to motor overheating. \\n\\nRecommendations:\\n1) Improve the cooling mechanisms by ensuring proper airflow through the cooling vents. This can be achieved by cleaning the vents regularly and removing any obstructions.\\n\\n2) Reduce the ambient temperature around the motor by improving the ventilation in the production area or implementing additional cooling measures such as fans or air conditioning.\\n\\n3) Monitor and control the motor surface temperature during operation to ensure it stays within the standard value of 60 degrees'"
      ]
     },
     "execution_count": 47,
     "metadata": {},
     "output_type": "execute_result"
    }
   ],
   "source": [
    "print(\"VECTOR chain RAG from agent executor\")\n",
    "copilot_response_server(\"perform an extensive and professional RCA for ticket 1 then give recommendations\",host=\"http://localhost:8000/crag\",fullrag=True)"
   ]
  },
  {
   "cell_type": "code",
   "execution_count": 51,
   "id": "f4d9ebb0-7e87-438d-a81e-e25596418edd",
   "metadata": {},
   "outputs": [
    {
     "name": "stdout",
     "output_type": "stream",
     "text": [
      "GRAPH chain RAG from agent executor\n"
     ]
    },
    {
     "data": {
      "text/plain": [
       "\"Here is some information that I know about different topics:\\n\\n1. There are theories of planetary formation that have been challenged.\\n2. There is a lowest-mass star hosting something, although it is not specified what it is hosting.\\n3. Five employees have published a tropical cyclone report.\\n4. In August, there was a new record high temperature reached.\\n5. The world's oceans have also reached a new record high temperature.\\n6. Hurricane Ian was upgraded from Category 4 to Category 5.\\n7. Hurricane Ian caused $112.9 billion worth of damage.\\n8. Hurricane Ian struck Florida.\\n9. The oxygen partial pressure is above 18%.\\n10. Emissions of chlorofluorocarbons have risen.\\n\\nIf you have any specific questions or need more information on any of these topics, please let me know.\""
      ]
     },
     "execution_count": 51,
     "metadata": {},
     "output_type": "execute_result"
    }
   ],
   "source": [
    "print(\"GRAPH chain RAG from agent executor\")\n",
    "copilot_response_server(\"tell me everything you know about\",host=\"http://localhost:8000/crag\",fullrag=True)"
   ]
  },
  {
   "cell_type": "code",
   "execution_count": 52,
   "id": "2b231b27-f75c-48c3-95d4-ef734e7cb55d",
   "metadata": {},
   "outputs": [
    {
     "data": {
      "text/plain": [
       "'Based on the information from the Copilot_Knowledge function, all the studies concluded that only about 13% of methane emissions are covered by methane mitigation policies. The effectiveness of these policies is also uncertain.'"
      ]
     },
     "execution_count": 52,
     "metadata": {},
     "output_type": "execute_result"
    }
   ],
   "source": [
    "copilot_response_server(\"what did all the studies concluded\",host=\"http://localhost:8000/crag\",fullrag=True)"
   ]
  },
  {
   "cell_type": "code",
   "execution_count": 37,
   "id": "f2b6d9fc-ca4d-4df6-b305-31961948920a",
   "metadata": {},
   "outputs": [
    {
     "data": {
      "text/plain": [
       "\"I can assist you with your manufacturing industry by providing guidance and support in various areas. This includes optimizing your production processes, improving efficiency, implementing quality control measures, and identifying opportunities for cost savings. Additionally, I can help you stay updated with industry trends and advancements, as well as provide insights on best practices. Let me know specifically what you need assistance with, and I'll be happy to help.\""
      ]
     },
     "execution_count": 37,
     "metadata": {},
     "output_type": "execute_result"
    }
   ],
   "source": [
    "copilot_response_server(\"how can you help me with my manufacturing industry\",host=\"http://localhost:8000/crag\",fullrag=True)"
   ]
  },
  {
   "cell_type": "code",
   "execution_count": 61,
   "id": "25c80268-002f-4320-ba3d-804f35e2d7cf",
   "metadata": {},
   "outputs": [
    {
     "name": "stdout",
     "output_type": "stream",
     "text": [
      "{\"result\":\"To perform FMEA on the data from the first incident ticket, we need to analyze the potential failure modes, their effects, and the likelihood of their occurrence. \\n\\n1. Failure Mode: Unexpected shutdown of Benchmill\\n   - Effect: Disruption of production schedule\\n   - Occurrence: Unknown\\n\\n2. Failure Mode: Airflow Rate below normal\\n   - Effect: Decreased cooling efficiency\\n   - Occurrence: Unlikely\\n\\n3. Failure Mode: High Ambient Temperature\\n   - Effect: Increased motor temperature\\n   - Occurrence: Unlikely\\n\\n4. Failure Mode: High Motor Surface Temperature\\n   - Effect: Potential overheating and damage to the motor\\n   - Occurrence: Unlikely\\n\\n5. Failure Mode: Overloaded Motor\\n   - Effect: Increased stress on the motor\\n   - Occurrence: Unlikely\\n\\n6. Failure Mode: Low Voltage Stability\\n   - Effect: Inconsistent motor performance\\n   - Occurrence: Unlikely\\n\\n7. Failure Mode: High Power Wiring Resistance\\n   - Effect: Increased power loss and heat generation\\n   - Occurrence: Unlikely\\n\n",
      "\\n8. Failure Mode: Voltage Fluctuation\\n   - Effect: Inconsistent motor performance\\n   - Occurrence: Unlikely\\n\\n9.\"}\n"
     ]
    }
   ],
   "source": [
    "#response in streaming\n",
    "for c in copilot_response_server(\"Perform FMEA on first ticket data\",fullrag=True,stream=True):\n",
    "    print(c.decode(\"utf-8\"))    \n",
    "# for chunk in rag_server_response_stream(\"list all the incident tickets and give the recommended actions\"):\n",
    "#     print(chunk.decode(\"utf-8\"))\n"
   ]
  },
  {
   "cell_type": "markdown",
   "id": "ad9b62c9-f305-4ea1-a2f5-a7106a9d0f30",
   "metadata": {},
   "source": [
    "### Now we need to test the agent executor in conversational way and also use llama index as a tool"
   ]
  },
  {
   "cell_type": "code",
   "execution_count": 26,
   "id": "a76a4077-384a-4520-92df-6769fa942e73",
   "metadata": {},
   "outputs": [],
   "source": [
    "# from langchain.agents import tool\n",
    "# @tool\n",
    "# def get_word_length(word: str) -> int:\n",
    "#     \"\"\"Returns the length of a word.\"\"\"\n",
    "#     return len(word)\n",
    "\n",
    "# tools = [get_word_length]\n",
    "\n",
    "# from langchain_core.prompts import ChatPromptTemplate, MessagesPlaceholder\n",
    "\n",
    "# prompt = ChatPromptTemplate.from_messages(\n",
    "#     [\n",
    "#         (\n",
    "#             \"system\",\n",
    "#             \"You are very powerful assistant, but don't know current events\",\n",
    "#         ),\n",
    "#         (\"user\", \"{input}\"),\n",
    "#         MessagesPlaceholder(variable_name=\"agent_scratchpad\"),\n",
    "#     ]\n",
    "# )"
   ]
  },
  {
   "cell_type": "code",
   "execution_count": 27,
   "id": "1c2f22ff-00be-489b-8b5b-446e03a5121c",
   "metadata": {},
   "outputs": [],
   "source": [
    "# llm_with_tools = llmrca.bind_tools(tools)\n",
    "\n"
   ]
  },
  {
   "cell_type": "code",
   "execution_count": 28,
   "id": "2b8f4636-3817-40f5-aefd-f4e654d717df",
   "metadata": {},
   "outputs": [],
   "source": [
    "# from langchain.agents.format_scratchpad.openai_tools import (\n",
    "#     format_to_openai_tool_messages,\n",
    "# )\n",
    "# from langchain.agents.output_parsers.openai_tools import OpenAIToolsAgentOutputParser\n",
    "\n",
    "# agent = (\n",
    "#     {\n",
    "#         \"input\": lambda x: x[\"input\"],\n",
    "#         \"agent_scratchpad\": lambda x: format_to_openai_tool_messages(\n",
    "#             x[\"intermediate_steps\"]\n",
    "#         ),\n",
    "#     }\n",
    "#     | prompt\n",
    "#     | llm_with_tools\n",
    "#     | OpenAIToolsAgentOutputParser()\n",
    "# )\n",
    "\n",
    "# from langchain.agents import AgentExecutor\n",
    "\n",
    "# agent_executor = AgentExecutor(agent=agent, tools=tools, verbose=True)"
   ]
  },
  {
   "cell_type": "code",
   "execution_count": 93,
   "id": "9b1114bc-eca9-4069-9ec0-e9b0da2db1f2",
   "metadata": {},
   "outputs": [],
   "source": [
    "# list(agent_executor.invoke({\"input\": \"How many letters in the word eudca\"}))\n",
    "\n"
   ]
  },
  {
   "cell_type": "code",
   "execution_count": 29,
   "id": "dc81087d-8129-4102-940e-54cf116164d3",
   "metadata": {},
   "outputs": [],
   "source": [
    "# llm_with_tools.invoke(\"How many letters in the word eudca\")"
   ]
  },
  {
   "cell_type": "code",
   "execution_count": null,
   "id": "1ad8ca0b-235a-41d3-8ff0-2acd930e5d26",
   "metadata": {},
   "outputs": [],
   "source": []
  }
 ],
 "metadata": {
  "kernelspec": {
   "display_name": "Python 3 (ipykernel)",
   "language": "python",
   "name": "python3"
  },
  "language_info": {
   "codemirror_mode": {
    "name": "ipython",
    "version": 3
   },
   "file_extension": ".py",
   "mimetype": "text/x-python",
   "name": "python",
   "nbconvert_exporter": "python",
   "pygments_lexer": "ipython3",
   "version": "3.11.0"
  }
 },
 "nbformat": 4,
 "nbformat_minor": 5
}
